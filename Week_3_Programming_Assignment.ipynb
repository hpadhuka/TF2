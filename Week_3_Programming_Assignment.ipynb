{
  "nbformat": 4,
  "nbformat_minor": 0,
  "metadata": {
    "coursera": {
      "course_slug": "tensor-flow-2-1",
      "graded_item_id": "mtZ4n",
      "launcher_item_id": "WphgK"
    },
    "kernelspec": {
      "display_name": "Python 3",
      "language": "python",
      "name": "python3"
    },
    "language_info": {
      "codemirror_mode": {
        "name": "ipython",
        "version": 3
      },
      "file_extension": ".py",
      "mimetype": "text/x-python",
      "name": "python",
      "nbconvert_exporter": "python",
      "pygments_lexer": "ipython3",
      "version": "3.7.1"
    },
    "colab": {
      "name": "Week 3 Programming Assignment.ipynb",
      "provenance": [],
      "collapsed_sections": [],
      "include_colab_link": true
    },
    "accelerator": "GPU"
  },
  "cells": [
    {
      "cell_type": "markdown",
      "metadata": {
        "id": "view-in-github",
        "colab_type": "text"
      },
      "source": [
        "<a href=\"https://colab.research.google.com/github/hpadhuka/TF2/blob/master/Week_3_Programming_Assignment.ipynb\" target=\"_parent\"><img src=\"https://colab.research.google.com/assets/colab-badge.svg\" alt=\"Open In Colab\"/></a>"
      ]
    },
    {
      "cell_type": "markdown",
      "metadata": {
        "id": "Crtnb3v_-QN8",
        "colab_type": "text"
      },
      "source": [
        "# Programming Assignment"
      ]
    },
    {
      "cell_type": "markdown",
      "metadata": {
        "id": "H5lhOgL2-QN9",
        "colab_type": "text"
      },
      "source": [
        "## Model validation on the Iris dataset"
      ]
    },
    {
      "cell_type": "markdown",
      "metadata": {
        "id": "3mu5pYMU-QN-",
        "colab_type": "text"
      },
      "source": [
        "### Instructions\n",
        "\n",
        "In this notebook, you will build, compile and fit a neural network model to the Iris dataset. You will also implement validation, regularisation and callbacks to improve your model.\n",
        "\n",
        "Some code cells are provided you in the notebook. You should avoid editing provided code, and make sure to execute the cells in order to avoid unexpected errors. Some cells begin with the line: \n",
        "\n",
        "`#### GRADED CELL ####`\n",
        "\n",
        "Don't move or edit this first line - this is what the automatic grader looks for to recognise graded cells. These cells require you to write your own code to complete them, and are automatically graded when you submit the notebook. Don't edit the function name or signature provided in these cells, otherwise the automatic grader might not function properly. Inside these graded cells, you can use any functions or classes that are imported below, but make sure you don't use any variables that are outside the scope of the function.\n",
        "\n",
        "### How to submit\n",
        "\n",
        "Complete all the tasks you are asked for in the worksheet. When you have finished and are happy with your code, press the **Submit Assignment** button at the top of this notebook.\n",
        "\n",
        "### Let's get started!\n",
        "\n",
        "We'll start running some imports, and loading the dataset. Do not edit the existing imports in the following cell. If you would like to make further Tensorflow imports, you should add them here."
      ]
    },
    {
      "cell_type": "code",
      "metadata": {
        "id": "TcJ88o-A-QOA",
        "colab_type": "code",
        "colab": {}
      },
      "source": [
        "#### PACKAGE IMPORTS ####\n",
        "\n",
        "# Run this cell first to import all required packages. Do not make any imports elsewhere in the notebook\n",
        "from numpy.random import seed\n",
        "seed(8)\n",
        "import tensorflow as tf\n",
        "import numpy as np\n",
        "import matplotlib.pyplot as plt\n",
        "from sklearn import datasets, model_selection \n",
        "%matplotlib inline\n",
        "\n",
        "# If you would like to make further imports from tensorflow, add them here\n",
        "from tensorflow.keras import Sequential\n",
        "from tensorflow.keras.layers import Dense, Dropout, BatchNormalization\n"
      ],
      "execution_count": 111,
      "outputs": []
    },
    {
      "cell_type": "markdown",
      "metadata": {
        "id": "FVxBqpU_-QOF",
        "colab_type": "text"
      },
      "source": [
        "#### The Iris dataset\n",
        "\n",
        "In this assignment, you will use the [Iris dataset](https://scikit-learn.org/stable/auto_examples/datasets/plot_iris_dataset.html). It consists of 50 samples from each of three species of Iris (Iris setosa, Iris virginica and Iris versicolor). Four features were measured from each sample: the length and the width of the sepals and petals, in centimeters. For a reference, see the following papers:\n",
        "\n",
        "- R. A. Fisher. \"The use of multiple measurements in taxonomic problems\". Annals of Eugenics. 7 (2): 179–188, 1936.\n",
        "\n",
        "Your goal is to construct a neural network that classifies each sample into the correct class, as well as applying validation and regularisation techniques."
      ]
    },
    {
      "cell_type": "markdown",
      "metadata": {
        "id": "BcDc7CXG-QOG",
        "colab_type": "text"
      },
      "source": [
        "#### Load and preprocess the data\n",
        "\n",
        "First read in the Iris dataset using `datasets.load_iris()`, and split the dataset into training and test sets."
      ]
    },
    {
      "cell_type": "code",
      "metadata": {
        "id": "2QCdzIiC-QOH",
        "colab_type": "code",
        "colab": {}
      },
      "source": [
        "#### GRADED CELL ####\n",
        "\n",
        "# Complete the following function. \n",
        "# Make sure to not change the function name or arguments.\n",
        "\n",
        "def read_in_and_split_data(iris_data):\n",
        "    \"\"\"\n",
        "    This function takes the Iris dataset as loaded by sklearn.datasets.load_iris(), and then \n",
        "    splits so that the training set includes 90% of the full dataset, with the test set \n",
        "    making up the remaining 10%.\n",
        "    Your function should return a tuple (train_data, test_data, train_targets, test_targets) \n",
        "    of appropriately split training and test data and targets.\n",
        "    \n",
        "    If you would like to import any further packages to aid you in this task, please do so in the \n",
        "    Package Imports cell above.\n",
        "    \"\"\"\n",
        "    train_data, test_data, train_targets, test_targets = model_selection.train_test_split(iris_data['data'], iris_data['target'], train_size=0.9)\n",
        "    print(train_data.shape, test_data.shape, train_targets.shape, test_targets.shape)\n",
        "    return(train_data, test_data, train_targets, test_targets)\n",
        "    "
      ],
      "execution_count": 112,
      "outputs": []
    },
    {
      "cell_type": "code",
      "metadata": {
        "id": "TVTDnj1W-QOJ",
        "colab_type": "code",
        "colab": {
          "base_uri": "https://localhost:8080/",
          "height": 34
        },
        "outputId": "e26bae73-51b9-4ecc-e063-0ab191b09b54"
      },
      "source": [
        "# Run your function to generate the test and training data.\n",
        "\n",
        "iris_data = datasets.load_iris()\n",
        "train_data, test_data, train_targets, test_targets = read_in_and_split_data(iris_data)\n"
      ],
      "execution_count": 113,
      "outputs": [
        {
          "output_type": "stream",
          "text": [
            "(135, 4) (15, 4) (135,) (15,)\n"
          ],
          "name": "stdout"
        }
      ]
    },
    {
      "cell_type": "markdown",
      "metadata": {
        "id": "7i_TGqos-QON",
        "colab_type": "text"
      },
      "source": [
        "We will now convert the training and test targets using a one hot encoder."
      ]
    },
    {
      "cell_type": "code",
      "metadata": {
        "id": "uolvGsLl-QOO",
        "colab_type": "code",
        "colab": {}
      },
      "source": [
        "# Convert targets to a one-hot encoding\n",
        "\n",
        "train_targets = tf.keras.utils.to_categorical(np.array(train_targets))\n",
        "test_targets = tf.keras.utils.to_categorical(np.array(test_targets))"
      ],
      "execution_count": 114,
      "outputs": []
    },
    {
      "cell_type": "markdown",
      "metadata": {
        "id": "V6i8xjbh-QOR",
        "colab_type": "text"
      },
      "source": [
        "#### Build the neural network model\n"
      ]
    },
    {
      "cell_type": "markdown",
      "metadata": {
        "id": "oDQeTk4u-QOT",
        "colab_type": "text"
      },
      "source": [
        "You can now construct a model to fit to the data. Using the Sequential API, build your model according to the following specifications:\n",
        "\n",
        "* The model should use the `input_shape` in the function argument to set the input size in the first layer.\n",
        "* The first layer should be a dense layer with 64 units.\n",
        "* The weights of the first layer should be initialised with the He uniform initializer.\n",
        "* The biases of the first layer should be all initially equal to one.\n",
        "* There should then be a further four dense layers, each with 128 units.\n",
        "* This should be followed with four dense layers, each with 64 units.\n",
        "* All of these Dense layers should use the ReLU activation function.\n",
        "* The output Dense layer should have 3 units and the softmax activation function.\n",
        "\n",
        "In total, the network should have 10 layers."
      ]
    },
    {
      "cell_type": "code",
      "metadata": {
        "id": "vOCmCe2l-QOU",
        "colab_type": "code",
        "colab": {}
      },
      "source": [
        "#### GRADED CELL ####\n",
        "\n",
        "# Complete the following function. \n",
        "# Make sure to not change the function name or arguments.\n",
        "\n",
        "def get_model(input_shape):\n",
        "    \"\"\"\n",
        "    This function should build a Sequential model according to the above specification. Ensure the \n",
        "    weights are initialised by providing the input_shape argument in the first layer, given by the\n",
        "    function argument.\n",
        "    Your function should return the model.\n",
        "    \"\"\"\n",
        "    \n",
        "    model = Sequential([\n",
        "                        Dense(64, kernel_initializer='he_uniform', bias_initializer='ones', input_shape=input_shape, activation='relu'),\n",
        "                        Dense(128, activation='relu'),\n",
        "                        Dense(128, activation='relu'),\n",
        "                        Dense(128, activation='relu'),\n",
        "                        Dense(128, activation='relu'),\n",
        "                        Dense(64, activation='relu'),\n",
        "                        Dense(64, activation='relu'),\n",
        "                        Dense(64, activation='relu'),\n",
        "                        Dense(64, activation='relu'),\n",
        "                        Dense(3, activation='softmax')\n",
        "                       ])\n",
        "    return model\n",
        "    \n",
        "    "
      ],
      "execution_count": 136,
      "outputs": []
    },
    {
      "cell_type": "code",
      "metadata": {
        "id": "bEnEugVV-QOX",
        "colab_type": "code",
        "colab": {}
      },
      "source": [
        "# Run your function to get the model\n",
        "\n",
        "model = get_model(train_data[0].shape)"
      ],
      "execution_count": 137,
      "outputs": []
    },
    {
      "cell_type": "markdown",
      "metadata": {
        "id": "BC0h-ud1-QOa",
        "colab_type": "text"
      },
      "source": [
        "#### Compile the model\n",
        "\n",
        "You should now compile the model using the `compile` method. Remember that you need to specify an optimizer, a loss function and a metric to judge the performance of your model."
      ]
    },
    {
      "cell_type": "code",
      "metadata": {
        "id": "ReHF4llc-QOa",
        "colab_type": "code",
        "colab": {}
      },
      "source": [
        "#### GRADED CELL ####\n",
        "\n",
        "# Complete the following function. \n",
        "# Make sure to not change the function name or arguments.\n",
        "\n",
        "def compile_model(model):\n",
        "    \"\"\"\n",
        "    This function takes in the model returned from your get_model function, and compiles it with an optimiser,\n",
        "    loss function and metric.\n",
        "    Compile the model using the Adam optimiser (with learning rate set to 0.0001), \n",
        "    the categorical crossentropy loss function and accuracy as the only metric. \n",
        "    Your function doesn't need to return anything; the model will be compiled in-place.\n",
        "    \"\"\"\n",
        "    model.compile(optimizer=tf.keras.optimizers.Adam(learning_rate=0.0001), loss='categorical_crossentropy', metrics = ['accuracy'])\n",
        "    "
      ],
      "execution_count": 138,
      "outputs": []
    },
    {
      "cell_type": "code",
      "metadata": {
        "id": "7qJOJunW-QOd",
        "colab_type": "code",
        "colab": {}
      },
      "source": [
        "# Run your function to compile the model\n",
        "\n",
        "compile_model(model)"
      ],
      "execution_count": 139,
      "outputs": []
    },
    {
      "cell_type": "markdown",
      "metadata": {
        "id": "OWxL16Hk-QOh",
        "colab_type": "text"
      },
      "source": [
        "#### Fit the model to the training data\n",
        "\n",
        "Now you should train the model on the Iris dataset, using the model's `fit` method. \n",
        "* Run the training for a fixed number of epochs, given by the function's `epochs` argument.\n",
        "* Return the training history to be used for plotting the learning curves.\n",
        "* Set the batch size to 40.\n",
        "* Set the validation set to be 15% of the training set.\n"
      ]
    },
    {
      "cell_type": "code",
      "metadata": {
        "id": "MYTwJVXq-QOi",
        "colab_type": "code",
        "colab": {}
      },
      "source": [
        "#### GRADED CELL ####\n",
        "\n",
        "# Complete the following function. \n",
        "# Make sure to not change the function name or arguments.\n",
        "\n",
        "def train_model(model, train_data, train_targets, epochs):\n",
        "    \"\"\"\n",
        "    This function should train the model for the given number of epochs on the \n",
        "    train_data and train_targets. \n",
        "    Your function should return the training history, as returned by model.fit.\n",
        "    \"\"\"\n",
        "    history = model.fit(train_data, train_targets, epochs=epochs, batch_size=40, validation_split=0.15, verbose=False)\n",
        "    return history"
      ],
      "execution_count": 140,
      "outputs": []
    },
    {
      "cell_type": "code",
      "metadata": {
        "id": "MOE4iz_w-QOl",
        "colab_type": "code",
        "colab": {}
      },
      "source": [
        "# Run your function to train the model\n",
        "\n",
        "history = train_model(model, train_data, train_targets, epochs=800)"
      ],
      "execution_count": 141,
      "outputs": []
    },
    {
      "cell_type": "markdown",
      "metadata": {
        "id": "ssIHu5cM-QOn",
        "colab_type": "text"
      },
      "source": [
        "#### Plot the learning curves\n",
        "\n",
        "We will now plot two graphs:\n",
        "* Epoch vs accuracy\n",
        "* Epoch vs loss\n"
      ]
    },
    {
      "cell_type": "code",
      "metadata": {
        "id": "JRFBWnUX-QOo",
        "colab_type": "code",
        "colab": {
          "base_uri": "https://localhost:8080/",
          "height": 295
        },
        "outputId": "830b3f98-998d-444b-8dbb-51a2f13e9985"
      },
      "source": [
        "#Run this cell to plot the epoch vs accuracy graph\n",
        "\n",
        "try:\n",
        "    plt.plot(history.history['accuracy'])\n",
        "    plt.plot(history.history['val_accuracy'])\n",
        "except KeyError:\n",
        "    plt.plot(history.history['acc'])\n",
        "    plt.plot(history.history['val_acc'])\n",
        "plt.title('Accuracy vs. epochs')\n",
        "plt.ylabel('Accuracy')\n",
        "plt.xlabel('Epoch')\n",
        "plt.legend(['Training', 'Validation'], loc='lower right')\n",
        "plt.show() "
      ],
      "execution_count": 142,
      "outputs": [
        {
          "output_type": "display_data",
          "data": {
            "image/png": "[encoded data removed]",
            "text/plain": [
              "<Figure size 432x288 with 1 Axes>"
            ]
          },
          "metadata": {
            "tags": [],
            "needs_background": "light"
          }
        }
      ]
    },
    {
      "cell_type": "code",
      "metadata": {
        "id": "tj0Ir6Sr-QOq",
        "colab_type": "code",
        "colab": {
          "base_uri": "https://localhost:8080/",
          "height": 295
        },
        "outputId": "d7e7b7c4-0ef9-4bc9-c026-299111485c03"
      },
      "source": [
        "#Run this cell to plot the epoch vs loss graph\n",
        "plt.plot(history.history['loss'])\n",
        "plt.plot(history.history['val_loss'])\n",
        "plt.title('Loss vs. epochs')\n",
        "plt.ylabel('Loss')\n",
        "plt.xlabel('Epoch')\n",
        "plt.legend(['Training', 'Validation'], loc='upper right')\n",
        "plt.show() "
      ],
      "execution_count": 143,
      "outputs": [
        {
          "output_type": "display_data",
          "data": {
            "image/png": "[encoded data removed]",
            "text/plain": [
              "<Figure size 432x288 with 1 Axes>"
            ]
          },
          "metadata": {
            "tags": [],
            "needs_background": "light"
          }
        }
      ]
    },
    {
      "cell_type": "markdown",
      "metadata": {
        "id": "qrsUWJwj-QOr",
        "colab_type": "text"
      },
      "source": [
        "Oh no! We have overfit our dataset. You should now try to now try to mitigate this overfitting."
      ]
    },
    {
      "cell_type": "markdown",
      "metadata": {
        "id": "R6N_uo6m-QOs",
        "colab_type": "text"
      },
      "source": [
        "#### Reducing overfitting in the model"
      ]
    },
    {
      "cell_type": "markdown",
      "metadata": {
        "id": "BGME_x9a-QOs",
        "colab_type": "text"
      },
      "source": [
        "You should now define a new regularised model.\n",
        "The specs for the regularised model are the same as our original model, with the addition of two dropout layers, weight decay, and a batch normalisation layer. \n",
        "\n",
        "In particular:\n",
        "\n",
        "* Add a dropout layer after the 3rd Dense layer\n",
        "* Then there should be two more Dense layers with 128 units before a batch normalisation layer\n",
        "* Following this, two more Dense layers with 64 units and then another Dropout layer\n",
        "* Two more Dense layers with 64 units and then the final 3-way softmax layer\n",
        "* Add weight decay (l2 kernel regularisation) in all Dense layers except the final softmax layer"
      ]
    },
    {
      "cell_type": "code",
      "metadata": {
        "id": "rYytfpmm-QOv",
        "colab_type": "code",
        "colab": {}
      },
      "source": [
        "#### GRADED CELL ####\n",
        "\n",
        "# Complete the following function. \n",
        "# Make sure to not change the function name or arguments.\n",
        "\n",
        "def get_regularised_model(input_shape, dropout_rate, weight_decay):\n",
        "    \"\"\"\n",
        "    This function should build a regularised Sequential model according to the above specification. \n",
        "    The dropout_rate argument in the function should be used to set the Dropout rate for all Dropout layers.\n",
        "    L2 kernel regularisation (weight decay) should be added using the weight_decay argument to \n",
        "    set the weight decay coefficient in all Dense layers that use L2 regularisation.\n",
        "    Ensure the weights are initialised by providing the input_shape argument in the first layer, given by the\n",
        "    function argument input_shape.\n",
        "    Your function should return the model.\n",
        "    \"\"\"\n",
        "    \n",
        "    model = Sequential([Dense(64, kernel_initializer='he_uniform', kernel_regularizer=tf.keras.regularizers.l2(l2=weight_decay), bias_initializer='ones', input_shape=input_shape, activation='relu'),\n",
        "                        Dense(128, kernel_regularizer=tf.keras.regularizers.l2(l2=weight_decay), activation='relu'),\n",
        "                        Dense(128, kernel_regularizer=tf.keras.regularizers.l2(l2=weight_decay), activation='relu'),\n",
        "                        Dense(128, kernel_regularizer=tf.keras.regularizers.l2(l2=weight_decay), activation='relu'),\n",
        "                        Dropout(dropout_rate),\n",
        "                        Dense(128, kernel_regularizer=tf.keras.regularizers.l2(l2=weight_decay), activation='relu'),\n",
        "                        Dense(128, kernel_regularizer=tf.keras.regularizers.l2(l2=weight_decay), activation='relu'),\n",
        "                        BatchNormalization(),\n",
        "                        Dense(64, kernel_regularizer=tf.keras.regularizers.l2(l2=weight_decay), activation='relu'),\n",
        "                        Dense(64, kernel_regularizer=tf.keras.regularizers.l2(l2=weight_decay), activation='relu'),\n",
        "                        Dropout(dropout_rate),\n",
        "                        Dense(64, kernel_regularizer=tf.keras.regularizers.l2(l2=weight_decay), activation='relu'),\n",
        "                        Dense(64, kernel_regularizer=tf.keras.regularizers.l2(l2=weight_decay), activation='relu'),\n",
        "                        Dense(3, activation='softmax')\n",
        "                       ])\n",
        "    return model\n",
        "    "
      ],
      "execution_count": 144,
      "outputs": []
    },
    {
      "cell_type": "markdown",
      "metadata": {
        "id": "qw79AOPy-QOx",
        "colab_type": "text"
      },
      "source": [
        "#### Instantiate, compile and train the model"
      ]
    },
    {
      "cell_type": "code",
      "metadata": {
        "id": "iO8JYVXB-QOz",
        "colab_type": "code",
        "colab": {}
      },
      "source": [
        "# Instantiate the model, using a dropout rate of 0.3 and weight decay coefficient of 0.001\n",
        "\n",
        "reg_model = get_regularised_model(train_data[0].shape, 0.3, 0.001)"
      ],
      "execution_count": 145,
      "outputs": []
    },
    {
      "cell_type": "code",
      "metadata": {
        "id": "nOEqCQ3I-QO2",
        "colab_type": "code",
        "colab": {}
      },
      "source": [
        "# Compile the model\n",
        "\n",
        "compile_model(reg_model)"
      ],
      "execution_count": 146,
      "outputs": []
    },
    {
      "cell_type": "code",
      "metadata": {
        "id": "5Eg83stX-QO6",
        "colab_type": "code",
        "colab": {}
      },
      "source": [
        "# Train the model\n",
        "\n",
        "reg_history = train_model(reg_model, train_data, train_targets, epochs=800)"
      ],
      "execution_count": 147,
      "outputs": []
    },
    {
      "cell_type": "markdown",
      "metadata": {
        "id": "gccWcGCz-QO8",
        "colab_type": "text"
      },
      "source": [
        "#### Plot the learning curves\n",
        "\n",
        "Let's now plot the loss and accuracy for the training and validation sets."
      ]
    },
    {
      "cell_type": "code",
      "metadata": {
        "id": "j8uieP3K-QO9",
        "colab_type": "code",
        "colab": {
          "base_uri": "https://localhost:8080/",
          "height": 295
        },
        "outputId": "8da6f970-caee-4530-cf4b-c41db8d5b559"
      },
      "source": [
        "#Run this cell to plot the new accuracy vs epoch graph\n",
        "\n",
        "try:\n",
        "    plt.plot(reg_history.history['accuracy'])\n",
        "    plt.plot(reg_history.history['val_accuracy'])\n",
        "except KeyError:\n",
        "    plt.plot(reg_history.history['acc'])\n",
        "    plt.plot(reg_history.history['val_acc'])\n",
        "plt.title('Accuracy vs. epochs')\n",
        "plt.ylabel('Loss')\n",
        "plt.xlabel('Epoch')\n",
        "plt.legend(['Training', 'Validation'], loc='lower right')\n",
        "plt.show() "
      ],
      "execution_count": 148,
      "outputs": [
        {
          "output_type": "display_data",
          "data": {
            "image/png": "[encoded data removed]",
            "text/plain": [
              "<Figure size 432x288 with 1 Axes>"
            ]
          },
          "metadata": {
            "tags": [],
            "needs_background": "light"
          }
        }
      ]
    },
    {
      "cell_type": "code",
      "metadata": {
        "id": "zpgy4mVP-QO_",
        "colab_type": "code",
        "colab": {
          "base_uri": "https://localhost:8080/",
          "height": 295
        },
        "outputId": "93f9e2a1-ee19-403b-95e0-ca16c836f6ca"
      },
      "source": [
        "#Run this cell to plot the new loss vs epoch graph\n",
        "\n",
        "plt.plot(reg_history.history['loss'])\n",
        "plt.plot(reg_history.history['val_loss'])\n",
        "plt.title('Loss vs. epochs')\n",
        "plt.ylabel('Loss')\n",
        "plt.xlabel('Epoch')\n",
        "plt.legend(['Training', 'Validation'], loc='upper right')\n",
        "plt.show() "
      ],
      "execution_count": 149,
      "outputs": [
        {
          "output_type": "display_data",
          "data": {
            "image/png": "[encoded data removed]",
            "text/plain": [
              "<Figure size 432x288 with 1 Axes>"
            ]
          },
          "metadata": {
            "tags": [],
            "needs_background": "light"
          }
        }
      ]
    },
    {
      "cell_type": "markdown",
      "metadata": {
        "id": "na0xiTpm-QPB",
        "colab_type": "text"
      },
      "source": [
        "We can see that the regularisation has helped to reduce the overfitting of the network.\n",
        "You will now incorporate callbacks into a new training run that implements early stopping and learning rate reduction on plateaux.\n",
        "\n",
        "Fill in the function below so that:\n",
        "\n",
        "* It creates an `EarlyStopping` callback object and a `ReduceLROnPlateau` callback object\n",
        "* The early stopping callback is used and monitors validation loss with the mode set to `\"min\"` and patience of 30.\n",
        "* The learning rate reduction on plateaux is used with a learning rate factor of 0.2 and a patience of 20."
      ]
    },
    {
      "cell_type": "code",
      "metadata": {
        "id": "18JaoKcd-QPC",
        "colab_type": "code",
        "colab": {}
      },
      "source": [
        "#### GRADED CELL ####\n",
        "\n",
        "# Complete the following function. \n",
        "# Make sure to not change the function name or arguments.\n",
        "\n",
        "def get_callbacks():\n",
        "    \"\"\"\n",
        "    This function should create and return a tuple (early_stopping, learning_rate_reduction) callbacks.\n",
        "    The callbacks should be instantiated according to the above requirements.\n",
        "    \"\"\"\n",
        "    early_stopping = tf.keras.callbacks.EarlyStopping(mode='min', patience=30)\n",
        "    learning_rate_reduction = tf.keras.callbacks.ReduceLROnPlateau(factor=0.2, patience=20)\n",
        "    return (early_stopping, learning_rate_reduction)\n",
        "    "
      ],
      "execution_count": 150,
      "outputs": []
    },
    {
      "cell_type": "markdown",
      "metadata": {
        "id": "eqi6pF-v-QPD",
        "colab_type": "text"
      },
      "source": [
        "Run the cell below to instantiate and train the regularised model with the callbacks."
      ]
    },
    {
      "cell_type": "code",
      "metadata": {
        "id": "emW-CYSd-QPE",
        "colab_type": "code",
        "colab": {
          "base_uri": "https://localhost:8080/",
          "height": 1000
        },
        "outputId": "c9648689-d442-4f06-9e86-4085d7ef0ee8"
      },
      "source": [
        "call_model = get_regularised_model(train_data[0].shape, 0.3, 0.0001)\n",
        "compile_model(call_model)\n",
        "early_stopping, learning_rate_reduction = get_callbacks()\n",
        "call_history = call_model.fit(train_data, train_targets, epochs=800, validation_split=0.15,\n",
        "                         callbacks=[early_stopping, learning_rate_reduction], verbose=2)"
      ],
      "execution_count": 151,
      "outputs": [
        {
          "output_type": "stream",
          "text": [
            "Epoch 1/800\n",
            "4/4 - 0s - loss: 1.2372 - accuracy: 0.3684 - val_loss: 1.1884 - val_accuracy: 0.3810\n",
            "Epoch 2/800\n",
            "4/4 - 0s - loss: 1.2217 - accuracy: 0.2807 - val_loss: 1.1838 - val_accuracy: 0.3810\n",
            "Epoch 3/800\n",
            "4/4 - 0s - loss: 1.2055 - accuracy: 0.3158 - val_loss: 1.1737 - val_accuracy: 0.3810\n",
            "Epoch 4/800\n",
            "4/4 - 0s - loss: 1.2011 - accuracy: 0.3333 - val_loss: 1.1615 - val_accuracy: 0.3810\n",
            "Epoch 5/800\n",
            "4/4 - 0s - loss: 1.1659 - accuracy: 0.3860 - val_loss: 1.1470 - val_accuracy: 0.5238\n",
            "Epoch 6/800\n",
            "4/4 - 0s - loss: 1.1889 - accuracy: 0.3684 - val_loss: 1.1376 - val_accuracy: 0.4762\n",
            "Epoch 7/800\n",
            "4/4 - 0s - loss: 1.1798 - accuracy: 0.4123 - val_loss: 1.1284 - val_accuracy: 0.4286\n",
            "Epoch 8/800\n",
            "4/4 - 0s - loss: 1.1353 - accuracy: 0.4737 - val_loss: 1.1186 - val_accuracy: 0.4286\n",
            "Epoch 9/800\n",
            "4/4 - 0s - loss: 1.1354 - accuracy: 0.4474 - val_loss: 1.1125 - val_accuracy: 0.4286\n",
            "Epoch 10/800\n",
            "4/4 - 0s - loss: 1.1348 - accuracy: 0.5000 - val_loss: 1.1072 - val_accuracy: 0.4286\n",
            "Epoch 11/800\n",
            "4/4 - 0s - loss: 1.1371 - accuracy: 0.4561 - val_loss: 1.0996 - val_accuracy: 0.4286\n",
            "Epoch 12/800\n",
            "4/4 - 0s - loss: 1.0884 - accuracy: 0.5439 - val_loss: 1.0900 - val_accuracy: 0.4286\n",
            "Epoch 13/800\n",
            "4/4 - 0s - loss: 1.0640 - accuracy: 0.6053 - val_loss: 1.0782 - val_accuracy: 0.4286\n",
            "Epoch 14/800\n",
            "4/4 - 0s - loss: 1.0619 - accuracy: 0.5351 - val_loss: 1.0655 - val_accuracy: 0.4286\n",
            "Epoch 15/800\n",
            "4/4 - 0s - loss: 1.0638 - accuracy: 0.5175 - val_loss: 1.0510 - val_accuracy: 0.4286\n",
            "Epoch 16/800\n",
            "4/4 - 0s - loss: 1.0567 - accuracy: 0.5877 - val_loss: 1.0358 - val_accuracy: 0.4762\n",
            "Epoch 17/800\n",
            "4/4 - 0s - loss: 1.0140 - accuracy: 0.6316 - val_loss: 1.0251 - val_accuracy: 0.4762\n",
            "Epoch 18/800\n",
            "4/4 - 0s - loss: 1.0138 - accuracy: 0.6404 - val_loss: 1.0114 - val_accuracy: 0.4762\n",
            "Epoch 19/800\n",
            "4/4 - 0s - loss: 0.9753 - accuracy: 0.7105 - val_loss: 0.9993 - val_accuracy: 0.4762\n",
            "Epoch 20/800\n",
            "4/4 - 0s - loss: 0.9470 - accuracy: 0.6579 - val_loss: 0.9884 - val_accuracy: 0.5714\n",
            "Epoch 21/800\n",
            "4/4 - 0s - loss: 0.9233 - accuracy: 0.6667 - val_loss: 0.9733 - val_accuracy: 0.5714\n",
            "Epoch 22/800\n",
            "4/4 - 0s - loss: 0.9085 - accuracy: 0.6579 - val_loss: 0.9561 - val_accuracy: 0.6190\n",
            "Epoch 23/800\n",
            "4/4 - 0s - loss: 0.8593 - accuracy: 0.6842 - val_loss: 0.9380 - val_accuracy: 0.6190\n",
            "Epoch 24/800\n",
            "4/4 - 0s - loss: 0.8396 - accuracy: 0.7193 - val_loss: 0.9203 - val_accuracy: 0.6190\n",
            "Epoch 25/800\n",
            "4/4 - 0s - loss: 0.8196 - accuracy: 0.7193 - val_loss: 0.9031 - val_accuracy: 0.6190\n",
            "Epoch 26/800\n",
            "4/4 - 0s - loss: 0.8480 - accuracy: 0.6842 - val_loss: 0.8835 - val_accuracy: 0.6190\n",
            "Epoch 27/800\n",
            "4/4 - 0s - loss: 0.7906 - accuracy: 0.7105 - val_loss: 0.8635 - val_accuracy: 0.6190\n",
            "Epoch 28/800\n",
            "4/4 - 0s - loss: 0.7766 - accuracy: 0.7018 - val_loss: 0.8461 - val_accuracy: 0.6190\n",
            "Epoch 29/800\n",
            "4/4 - 0s - loss: 0.7837 - accuracy: 0.6754 - val_loss: 0.8281 - val_accuracy: 0.6190\n",
            "Epoch 30/800\n",
            "4/4 - 0s - loss: 0.7368 - accuracy: 0.7281 - val_loss: 0.8105 - val_accuracy: 0.6190\n",
            "Epoch 31/800\n",
            "4/4 - 0s - loss: 0.7062 - accuracy: 0.7193 - val_loss: 0.7915 - val_accuracy: 0.6190\n",
            "Epoch 32/800\n",
            "4/4 - 0s - loss: 0.7048 - accuracy: 0.6930 - val_loss: 0.7735 - val_accuracy: 0.6190\n",
            "Epoch 33/800\n",
            "4/4 - 0s - loss: 0.7101 - accuracy: 0.6754 - val_loss: 0.7581 - val_accuracy: 0.6190\n",
            "Epoch 34/800\n",
            "4/4 - 0s - loss: 0.6684 - accuracy: 0.7368 - val_loss: 0.7438 - val_accuracy: 0.6190\n",
            "Epoch 35/800\n",
            "4/4 - 0s - loss: 0.6525 - accuracy: 0.7544 - val_loss: 0.7307 - val_accuracy: 0.6190\n",
            "Epoch 36/800\n",
            "4/4 - 0s - loss: 0.6425 - accuracy: 0.7456 - val_loss: 0.7164 - val_accuracy: 0.6190\n",
            "Epoch 37/800\n",
            "4/4 - 0s - loss: 0.6609 - accuracy: 0.7281 - val_loss: 0.7032 - val_accuracy: 0.6190\n",
            "Epoch 38/800\n",
            "4/4 - 0s - loss: 0.6092 - accuracy: 0.7281 - val_loss: 0.6894 - val_accuracy: 0.6190\n",
            "Epoch 39/800\n",
            "4/4 - 0s - loss: 0.6682 - accuracy: 0.6930 - val_loss: 0.6786 - val_accuracy: 0.6190\n",
            "Epoch 40/800\n",
            "4/4 - 0s - loss: 0.6153 - accuracy: 0.7105 - val_loss: 0.6698 - val_accuracy: 0.6667\n",
            "Epoch 41/800\n",
            "4/4 - 0s - loss: 0.6119 - accuracy: 0.7719 - val_loss: 0.6642 - val_accuracy: 0.6667\n",
            "Epoch 42/800\n",
            "4/4 - 0s - loss: 0.5774 - accuracy: 0.7719 - val_loss: 0.6592 - val_accuracy: 0.6667\n",
            "Epoch 43/800\n",
            "4/4 - 0s - loss: 0.6168 - accuracy: 0.7281 - val_loss: 0.6539 - val_accuracy: 0.6667\n",
            "Epoch 44/800\n",
            "4/4 - 0s - loss: 0.5611 - accuracy: 0.7807 - val_loss: 0.6479 - val_accuracy: 0.6667\n",
            "Epoch 45/800\n",
            "4/4 - 0s - loss: 0.5847 - accuracy: 0.7018 - val_loss: 0.6398 - val_accuracy: 0.7143\n",
            "Epoch 46/800\n",
            "4/4 - 0s - loss: 0.5686 - accuracy: 0.7719 - val_loss: 0.6332 - val_accuracy: 0.7143\n",
            "Epoch 47/800\n",
            "4/4 - 0s - loss: 0.5765 - accuracy: 0.7719 - val_loss: 0.6259 - val_accuracy: 0.7143\n",
            "Epoch 48/800\n",
            "4/4 - 0s - loss: 0.5836 - accuracy: 0.7719 - val_loss: 0.6182 - val_accuracy: 0.7143\n",
            "Epoch 49/800\n",
            "4/4 - 0s - loss: 0.5490 - accuracy: 0.7895 - val_loss: 0.6108 - val_accuracy: 0.7143\n",
            "Epoch 50/800\n",
            "4/4 - 0s - loss: 0.5626 - accuracy: 0.7544 - val_loss: 0.6036 - val_accuracy: 0.7143\n",
            "Epoch 51/800\n",
            "4/4 - 0s - loss: 0.5554 - accuracy: 0.7895 - val_loss: 0.5982 - val_accuracy: 0.7619\n",
            "Epoch 52/800\n",
            "4/4 - 0s - loss: 0.5655 - accuracy: 0.7456 - val_loss: 0.5939 - val_accuracy: 0.7619\n",
            "Epoch 53/800\n",
            "4/4 - 0s - loss: 0.5839 - accuracy: 0.7368 - val_loss: 0.5902 - val_accuracy: 0.7619\n",
            "Epoch 54/800\n",
            "4/4 - 0s - loss: 0.5569 - accuracy: 0.7456 - val_loss: 0.5873 - val_accuracy: 0.7619\n",
            "Epoch 55/800\n",
            "4/4 - 0s - loss: 0.5692 - accuracy: 0.7807 - val_loss: 0.5836 - val_accuracy: 0.7143\n",
            "Epoch 56/800\n",
            "4/4 - 0s - loss: 0.5475 - accuracy: 0.7281 - val_loss: 0.5791 - val_accuracy: 0.7143\n",
            "Epoch 57/800\n",
            "4/4 - 0s - loss: 0.5334 - accuracy: 0.7807 - val_loss: 0.5754 - val_accuracy: 0.7143\n",
            "Epoch 58/800\n",
            "4/4 - 0s - loss: 0.5484 - accuracy: 0.7807 - val_loss: 0.5766 - val_accuracy: 0.7143\n",
            "Epoch 59/800\n",
            "4/4 - 0s - loss: 0.5296 - accuracy: 0.7895 - val_loss: 0.5731 - val_accuracy: 0.7143\n",
            "Epoch 60/800\n",
            "4/4 - 0s - loss: 0.5184 - accuracy: 0.8070 - val_loss: 0.5690 - val_accuracy: 0.7619\n",
            "Epoch 61/800\n",
            "4/4 - 0s - loss: 0.5354 - accuracy: 0.7632 - val_loss: 0.5653 - val_accuracy: 0.8095\n",
            "Epoch 62/800\n",
            "4/4 - 0s - loss: 0.4960 - accuracy: 0.8158 - val_loss: 0.5628 - val_accuracy: 0.8095\n",
            "Epoch 63/800\n",
            "4/4 - 0s - loss: 0.4907 - accuracy: 0.8070 - val_loss: 0.5593 - val_accuracy: 0.8095\n",
            "Epoch 64/800\n",
            "4/4 - 0s - loss: 0.4980 - accuracy: 0.8070 - val_loss: 0.5554 - val_accuracy: 0.8571\n",
            "Epoch 65/800\n",
            "4/4 - 0s - loss: 0.4943 - accuracy: 0.8421 - val_loss: 0.5512 - val_accuracy: 0.8571\n",
            "Epoch 66/800\n",
            "4/4 - 0s - loss: 0.4947 - accuracy: 0.8246 - val_loss: 0.5581 - val_accuracy: 0.8571\n",
            "Epoch 67/800\n",
            "4/4 - 0s - loss: 0.4651 - accuracy: 0.8509 - val_loss: 0.5670 - val_accuracy: 0.8571\n",
            "Epoch 68/800\n",
            "4/4 - 0s - loss: 0.5051 - accuracy: 0.7807 - val_loss: 0.5592 - val_accuracy: 0.8571\n",
            "Epoch 69/800\n",
            "4/4 - 0s - loss: 0.4822 - accuracy: 0.8333 - val_loss: 0.5533 - val_accuracy: 0.8571\n",
            "Epoch 70/800\n",
            "4/4 - 0s - loss: 0.4800 - accuracy: 0.8509 - val_loss: 0.5487 - val_accuracy: 0.8571\n",
            "Epoch 71/800\n",
            "4/4 - 0s - loss: 0.4406 - accuracy: 0.9035 - val_loss: 0.5298 - val_accuracy: 0.8571\n",
            "Epoch 72/800\n",
            "4/4 - 0s - loss: 0.4707 - accuracy: 0.8333 - val_loss: 0.5114 - val_accuracy: 0.8571\n",
            "Epoch 73/800\n",
            "4/4 - 0s - loss: 0.4796 - accuracy: 0.8509 - val_loss: 0.4977 - val_accuracy: 0.8571\n",
            "Epoch 74/800\n",
            "4/4 - 0s - loss: 0.4586 - accuracy: 0.8860 - val_loss: 0.4849 - val_accuracy: 0.8571\n",
            "Epoch 75/800\n",
            "4/4 - 0s - loss: 0.4233 - accuracy: 0.8860 - val_loss: 0.4786 - val_accuracy: 0.8571\n",
            "Epoch 76/800\n",
            "4/4 - 0s - loss: 0.4349 - accuracy: 0.8684 - val_loss: 0.4749 - val_accuracy: 0.8571\n",
            "Epoch 77/800\n",
            "4/4 - 0s - loss: 0.4292 - accuracy: 0.8684 - val_loss: 0.4812 - val_accuracy: 0.9048\n",
            "Epoch 78/800\n",
            "4/4 - 0s - loss: 0.4269 - accuracy: 0.8947 - val_loss: 0.4983 - val_accuracy: 0.8571\n",
            "Epoch 79/800\n",
            "4/4 - 0s - loss: 0.4528 - accuracy: 0.8421 - val_loss: 0.5067 - val_accuracy: 0.8571\n",
            "Epoch 80/800\n",
            "4/4 - 0s - loss: 0.4176 - accuracy: 0.8860 - val_loss: 0.4918 - val_accuracy: 0.8571\n",
            "Epoch 81/800\n",
            "4/4 - 0s - loss: 0.4126 - accuracy: 0.8860 - val_loss: 0.4668 - val_accuracy: 0.8571\n",
            "Epoch 82/800\n",
            "4/4 - 0s - loss: 0.3908 - accuracy: 0.8860 - val_loss: 0.4544 - val_accuracy: 0.8571\n",
            "Epoch 83/800\n",
            "4/4 - 0s - loss: 0.3891 - accuracy: 0.8947 - val_loss: 0.4436 - val_accuracy: 0.8571\n",
            "Epoch 84/800\n",
            "4/4 - 0s - loss: 0.3918 - accuracy: 0.8860 - val_loss: 0.4483 - val_accuracy: 0.8571\n",
            "Epoch 85/800\n",
            "4/4 - 0s - loss: 0.3516 - accuracy: 0.9211 - val_loss: 0.4586 - val_accuracy: 0.8571\n",
            "Epoch 86/800\n",
            "4/4 - 0s - loss: 0.3472 - accuracy: 0.9386 - val_loss: 0.4800 - val_accuracy: 0.8571\n",
            "Epoch 87/800\n",
            "4/4 - 0s - loss: 0.4009 - accuracy: 0.8860 - val_loss: 0.5596 - val_accuracy: 0.8571\n",
            "Epoch 88/800\n",
            "4/4 - 0s - loss: 0.3446 - accuracy: 0.9123 - val_loss: 0.5481 - val_accuracy: 0.9048\n",
            "Epoch 89/800\n",
            "4/4 - 0s - loss: 0.3030 - accuracy: 0.9474 - val_loss: 0.4619 - val_accuracy: 0.8571\n",
            "Epoch 90/800\n",
            "4/4 - 0s - loss: 0.3661 - accuracy: 0.9035 - val_loss: 0.4088 - val_accuracy: 0.8571\n",
            "Epoch 91/800\n",
            "4/4 - 0s - loss: 0.3584 - accuracy: 0.8860 - val_loss: 0.4071 - val_accuracy: 0.8571\n",
            "Epoch 92/800\n",
            "4/4 - 0s - loss: 0.3400 - accuracy: 0.9386 - val_loss: 0.4212 - val_accuracy: 0.8571\n",
            "Epoch 93/800\n",
            "4/4 - 0s - loss: 0.3036 - accuracy: 0.9386 - val_loss: 0.4705 - val_accuracy: 0.8571\n",
            "Epoch 94/800\n",
            "4/4 - 0s - loss: 0.3050 - accuracy: 0.9386 - val_loss: 0.5133 - val_accuracy: 0.9048\n",
            "Epoch 95/800\n",
            "4/4 - 0s - loss: 0.2781 - accuracy: 0.9474 - val_loss: 0.4832 - val_accuracy: 0.9048\n",
            "Epoch 96/800\n",
            "4/4 - 0s - loss: 0.3068 - accuracy: 0.9211 - val_loss: 0.3735 - val_accuracy: 0.8571\n",
            "Epoch 97/800\n",
            "4/4 - 0s - loss: 0.2136 - accuracy: 0.9737 - val_loss: 0.3395 - val_accuracy: 0.8571\n",
            "Epoch 98/800\n",
            "4/4 - 0s - loss: 0.2561 - accuracy: 0.9211 - val_loss: 0.3174 - val_accuracy: 0.9048\n",
            "Epoch 99/800\n",
            "4/4 - 0s - loss: 0.2649 - accuracy: 0.9649 - val_loss: 0.3215 - val_accuracy: 0.9048\n",
            "Epoch 100/800\n",
            "4/4 - 0s - loss: 0.2206 - accuracy: 0.9737 - val_loss: 0.3478 - val_accuracy: 0.8571\n",
            "Epoch 101/800\n",
            "4/4 - 0s - loss: 0.2425 - accuracy: 0.9386 - val_loss: 0.3409 - val_accuracy: 0.8571\n",
            "Epoch 102/800\n",
            "4/4 - 0s - loss: 0.2213 - accuracy: 0.9474 - val_loss: 0.3322 - val_accuracy: 0.8571\n",
            "Epoch 103/800\n",
            "4/4 - 0s - loss: 0.2371 - accuracy: 0.9298 - val_loss: 0.3268 - val_accuracy: 0.8571\n",
            "Epoch 104/800\n",
            "4/4 - 0s - loss: 0.2450 - accuracy: 0.9649 - val_loss: 0.3475 - val_accuracy: 0.8571\n",
            "Epoch 105/800\n",
            "4/4 - 0s - loss: 0.2349 - accuracy: 0.9386 - val_loss: 0.3575 - val_accuracy: 0.8571\n",
            "Epoch 106/800\n",
            "4/4 - 0s - loss: 0.2251 - accuracy: 0.9561 - val_loss: 0.3664 - val_accuracy: 0.8571\n",
            "Epoch 107/800\n",
            "4/4 - 0s - loss: 0.2192 - accuracy: 0.9474 - val_loss: 0.3437 - val_accuracy: 0.8571\n",
            "Epoch 108/800\n",
            "4/4 - 0s - loss: 0.2031 - accuracy: 0.9737 - val_loss: 0.3273 - val_accuracy: 0.9048\n",
            "Epoch 109/800\n",
            "4/4 - 0s - loss: 0.1890 - accuracy: 0.9649 - val_loss: 0.3312 - val_accuracy: 0.8571\n",
            "Epoch 110/800\n",
            "4/4 - 0s - loss: 0.2055 - accuracy: 0.9649 - val_loss: 0.3304 - val_accuracy: 0.8571\n",
            "Epoch 111/800\n",
            "4/4 - 0s - loss: 0.2489 - accuracy: 0.9298 - val_loss: 0.3330 - val_accuracy: 0.8571\n",
            "Epoch 112/800\n",
            "4/4 - 0s - loss: 0.1950 - accuracy: 0.9561 - val_loss: 0.3534 - val_accuracy: 0.8571\n",
            "Epoch 113/800\n",
            "4/4 - 0s - loss: 0.2038 - accuracy: 0.9561 - val_loss: 0.3448 - val_accuracy: 0.8571\n",
            "Epoch 114/800\n",
            "4/4 - 0s - loss: 0.2266 - accuracy: 0.9386 - val_loss: 0.3054 - val_accuracy: 0.9048\n",
            "Epoch 115/800\n",
            "4/4 - 0s - loss: 0.2175 - accuracy: 0.9386 - val_loss: 0.3027 - val_accuracy: 0.9048\n",
            "Epoch 116/800\n",
            "4/4 - 0s - loss: 0.1734 - accuracy: 0.9825 - val_loss: 0.3065 - val_accuracy: 0.9048\n",
            "Epoch 117/800\n",
            "4/4 - 0s - loss: 0.1854 - accuracy: 0.9737 - val_loss: 0.3046 - val_accuracy: 0.9048\n",
            "Epoch 118/800\n",
            "4/4 - 0s - loss: 0.1779 - accuracy: 0.9825 - val_loss: 0.3065 - val_accuracy: 0.9048\n",
            "Epoch 119/800\n",
            "4/4 - 0s - loss: 0.1802 - accuracy: 0.9737 - val_loss: 0.3223 - val_accuracy: 0.8571\n",
            "Epoch 120/800\n",
            "4/4 - 0s - loss: 0.2190 - accuracy: 0.9474 - val_loss: 0.3265 - val_accuracy: 0.9048\n",
            "Epoch 121/800\n",
            "4/4 - 0s - loss: 0.2420 - accuracy: 0.9474 - val_loss: 0.2978 - val_accuracy: 0.9048\n",
            "Epoch 122/800\n",
            "4/4 - 0s - loss: 0.1810 - accuracy: 0.9825 - val_loss: 0.2902 - val_accuracy: 0.9048\n",
            "Epoch 123/800\n",
            "4/4 - 0s - loss: 0.2369 - accuracy: 0.9561 - val_loss: 0.2917 - val_accuracy: 0.9048\n",
            "Epoch 124/800\n",
            "4/4 - 0s - loss: 0.1589 - accuracy: 0.9737 - val_loss: 0.2941 - val_accuracy: 0.9048\n",
            "Epoch 125/800\n",
            "4/4 - 0s - loss: 0.1668 - accuracy: 0.9737 - val_loss: 0.2997 - val_accuracy: 0.9048\n",
            "Epoch 126/800\n",
            "4/4 - 0s - loss: 0.1787 - accuracy: 0.9737 - val_loss: 0.3105 - val_accuracy: 0.9048\n",
            "Epoch 127/800\n",
            "4/4 - 0s - loss: 0.1794 - accuracy: 0.9737 - val_loss: 0.3162 - val_accuracy: 0.9048\n",
            "Epoch 128/800\n",
            "4/4 - 0s - loss: 0.1586 - accuracy: 0.9912 - val_loss: 0.3125 - val_accuracy: 0.9048\n",
            "Epoch 129/800\n",
            "4/4 - 0s - loss: 0.1796 - accuracy: 0.9737 - val_loss: 0.2899 - val_accuracy: 0.9048\n",
            "Epoch 130/800\n",
            "4/4 - 0s - loss: 0.1616 - accuracy: 0.9737 - val_loss: 0.2924 - val_accuracy: 0.9048\n",
            "Epoch 131/800\n",
            "4/4 - 0s - loss: 0.1717 - accuracy: 0.9737 - val_loss: 0.2979 - val_accuracy: 0.9048\n",
            "Epoch 132/800\n",
            "4/4 - 0s - loss: 0.1727 - accuracy: 0.9737 - val_loss: 0.3173 - val_accuracy: 0.9048\n",
            "Epoch 133/800\n",
            "4/4 - 0s - loss: 0.1770 - accuracy: 0.9561 - val_loss: 0.3645 - val_accuracy: 0.8571\n",
            "Epoch 134/800\n",
            "4/4 - 0s - loss: 0.2694 - accuracy: 0.9298 - val_loss: 0.3241 - val_accuracy: 0.9048\n",
            "Epoch 135/800\n",
            "4/4 - 0s - loss: 0.1788 - accuracy: 0.9561 - val_loss: 0.3350 - val_accuracy: 0.9048\n",
            "Epoch 136/800\n",
            "4/4 - 0s - loss: 0.1326 - accuracy: 0.9825 - val_loss: 0.3324 - val_accuracy: 0.9048\n",
            "Epoch 137/800\n",
            "4/4 - 0s - loss: 0.1823 - accuracy: 0.9737 - val_loss: 0.3657 - val_accuracy: 0.8571\n",
            "Epoch 138/800\n",
            "4/4 - 0s - loss: 0.1760 - accuracy: 0.9825 - val_loss: 0.3879 - val_accuracy: 0.8571\n",
            "Epoch 139/800\n",
            "4/4 - 0s - loss: 0.1635 - accuracy: 0.9737 - val_loss: 0.3280 - val_accuracy: 0.9524\n",
            "Epoch 140/800\n",
            "4/4 - 0s - loss: 0.1689 - accuracy: 0.9825 - val_loss: 0.3515 - val_accuracy: 0.9048\n",
            "Epoch 141/800\n",
            "4/4 - 0s - loss: 0.1596 - accuracy: 0.9649 - val_loss: 0.3399 - val_accuracy: 0.9048\n",
            "Epoch 142/800\n",
            "4/4 - 0s - loss: 0.1780 - accuracy: 0.9649 - val_loss: 0.3190 - val_accuracy: 0.9048\n",
            "Epoch 143/800\n",
            "4/4 - 0s - loss: 0.2110 - accuracy: 0.9474 - val_loss: 0.3423 - val_accuracy: 0.9048\n",
            "Epoch 144/800\n",
            "4/4 - 0s - loss: 0.2090 - accuracy: 0.9561 - val_loss: 0.3252 - val_accuracy: 0.9048\n",
            "Epoch 145/800\n",
            "4/4 - 0s - loss: 0.1428 - accuracy: 0.9912 - val_loss: 0.3317 - val_accuracy: 0.9048\n",
            "Epoch 146/800\n",
            "4/4 - 0s - loss: 0.1569 - accuracy: 0.9737 - val_loss: 0.3088 - val_accuracy: 0.9048\n",
            "Epoch 147/800\n",
            "4/4 - 0s - loss: 0.1626 - accuracy: 0.9737 - val_loss: 0.2919 - val_accuracy: 0.9048\n",
            "Epoch 148/800\n",
            "4/4 - 0s - loss: 0.1890 - accuracy: 0.9561 - val_loss: 0.3185 - val_accuracy: 0.9048\n",
            "Epoch 149/800\n",
            "4/4 - 0s - loss: 0.1697 - accuracy: 0.9737 - val_loss: 0.2914 - val_accuracy: 0.9524\n",
            "Epoch 150/800\n",
            "4/4 - 0s - loss: 0.1691 - accuracy: 0.9737 - val_loss: 0.2865 - val_accuracy: 0.9524\n",
            "Epoch 151/800\n",
            "4/4 - 0s - loss: 0.1461 - accuracy: 0.9825 - val_loss: 0.2836 - val_accuracy: 0.9524\n",
            "Epoch 152/800\n",
            "4/4 - 0s - loss: 0.1893 - accuracy: 0.9561 - val_loss: 0.2836 - val_accuracy: 0.9048\n",
            "Epoch 153/800\n",
            "4/4 - 0s - loss: 0.1279 - accuracy: 0.9825 - val_loss: 0.2889 - val_accuracy: 0.9048\n",
            "Epoch 154/800\n",
            "4/4 - 0s - loss: 0.1408 - accuracy: 0.9912 - val_loss: 0.3058 - val_accuracy: 0.9048\n",
            "Epoch 155/800\n",
            "4/4 - 0s - loss: 0.1446 - accuracy: 0.9737 - val_loss: 0.3221 - val_accuracy: 0.9048\n",
            "Epoch 156/800\n",
            "4/4 - 0s - loss: 0.1666 - accuracy: 0.9649 - val_loss: 0.3308 - val_accuracy: 0.9048\n",
            "Epoch 157/800\n",
            "4/4 - 0s - loss: 0.1380 - accuracy: 0.9825 - val_loss: 0.3270 - val_accuracy: 0.9048\n",
            "Epoch 158/800\n",
            "4/4 - 0s - loss: 0.1532 - accuracy: 0.9737 - val_loss: 0.3144 - val_accuracy: 0.9048\n",
            "Epoch 159/800\n",
            "4/4 - 0s - loss: 0.1405 - accuracy: 0.9825 - val_loss: 0.3006 - val_accuracy: 0.9048\n",
            "Epoch 160/800\n",
            "4/4 - 0s - loss: 0.1387 - accuracy: 0.9649 - val_loss: 0.3013 - val_accuracy: 0.9048\n",
            "Epoch 161/800\n",
            "4/4 - 0s - loss: 0.1833 - accuracy: 0.9561 - val_loss: 0.3014 - val_accuracy: 0.9048\n",
            "Epoch 162/800\n",
            "4/4 - 0s - loss: 0.1504 - accuracy: 0.9737 - val_loss: 0.2943 - val_accuracy: 0.9048\n",
            "Epoch 163/800\n",
            "4/4 - 0s - loss: 0.1574 - accuracy: 0.9737 - val_loss: 0.2916 - val_accuracy: 0.9048\n",
            "Epoch 164/800\n",
            "4/4 - 0s - loss: 0.1439 - accuracy: 0.9912 - val_loss: 0.2914 - val_accuracy: 0.9048\n",
            "Epoch 165/800\n",
            "4/4 - 0s - loss: 0.1195 - accuracy: 0.9912 - val_loss: 0.2919 - val_accuracy: 0.9048\n",
            "Epoch 166/800\n",
            "4/4 - 0s - loss: 0.1360 - accuracy: 0.9825 - val_loss: 0.2924 - val_accuracy: 0.9048\n",
            "Epoch 167/800\n",
            "4/4 - 0s - loss: 0.1831 - accuracy: 0.9737 - val_loss: 0.2942 - val_accuracy: 0.9048\n",
            "Epoch 168/800\n",
            "4/4 - 0s - loss: 0.1232 - accuracy: 0.9825 - val_loss: 0.2980 - val_accuracy: 0.9048\n",
            "Epoch 169/800\n",
            "4/4 - 0s - loss: 0.1448 - accuracy: 0.9737 - val_loss: 0.2988 - val_accuracy: 0.9048\n",
            "Epoch 170/800\n",
            "4/4 - 0s - loss: 0.1441 - accuracy: 0.9737 - val_loss: 0.2960 - val_accuracy: 0.9048\n",
            "Epoch 171/800\n",
            "4/4 - 0s - loss: 0.1587 - accuracy: 0.9825 - val_loss: 0.2926 - val_accuracy: 0.9048\n",
            "Epoch 172/800\n",
            "4/4 - 0s - loss: 0.1715 - accuracy: 0.9561 - val_loss: 0.2929 - val_accuracy: 0.9524\n",
            "Epoch 173/800\n",
            "4/4 - 0s - loss: 0.1400 - accuracy: 0.9912 - val_loss: 0.2937 - val_accuracy: 0.9524\n",
            "Epoch 174/800\n",
            "4/4 - 0s - loss: 0.1756 - accuracy: 0.9825 - val_loss: 0.2947 - val_accuracy: 0.9048\n",
            "Epoch 175/800\n",
            "4/4 - 0s - loss: 0.1436 - accuracy: 0.9737 - val_loss: 0.2966 - val_accuracy: 0.9048\n",
            "Epoch 176/800\n",
            "4/4 - 0s - loss: 0.1446 - accuracy: 0.9825 - val_loss: 0.2990 - val_accuracy: 0.9048\n",
            "Epoch 177/800\n",
            "4/4 - 0s - loss: 0.1471 - accuracy: 0.9649 - val_loss: 0.3012 - val_accuracy: 0.9048\n",
            "Epoch 178/800\n",
            "4/4 - 0s - loss: 0.1320 - accuracy: 0.9737 - val_loss: 0.3033 - val_accuracy: 0.9048\n",
            "Epoch 179/800\n",
            "4/4 - 0s - loss: 0.1837 - accuracy: 0.9561 - val_loss: 0.3073 - val_accuracy: 0.9048\n",
            "Epoch 180/800\n",
            "4/4 - 0s - loss: 0.1100 - accuracy: 1.0000 - val_loss: 0.3113 - val_accuracy: 0.9048\n",
            "Epoch 181/800\n",
            "4/4 - 0s - loss: 0.1130 - accuracy: 1.0000 - val_loss: 0.3144 - val_accuracy: 0.9048\n"
          ],
          "name": "stdout"
        }
      ]
    },
    {
      "cell_type": "code",
      "metadata": {
        "id": "DtuDazML-QPG",
        "colab_type": "code",
        "colab": {
          "base_uri": "https://localhost:8080/",
          "height": 34
        },
        "outputId": "84601fdd-d6ad-49eb-bb59-201732eecb82"
      },
      "source": [
        "learning_rate_reduction.patience"
      ],
      "execution_count": 152,
      "outputs": [
        {
          "output_type": "execute_result",
          "data": {
            "text/plain": [
              "20"
            ]
          },
          "metadata": {
            "tags": []
          },
          "execution_count": 152
        }
      ]
    },
    {
      "cell_type": "markdown",
      "metadata": {
        "id": "8zhsqvtL-QPJ",
        "colab_type": "text"
      },
      "source": [
        "Finally, let's replot the accuracy and loss graphs for our new model."
      ]
    },
    {
      "cell_type": "code",
      "metadata": {
        "id": "HOPSJT7w-QPJ",
        "colab_type": "code",
        "colab": {
          "base_uri": "https://localhost:8080/",
          "height": 295
        },
        "outputId": "5f8ce30d-7aa9-4a83-e31d-b41872933e9a"
      },
      "source": [
        "try:\n",
        "    plt.plot(call_history.history['accuracy'])\n",
        "    plt.plot(call_history.history['val_accuracy'])\n",
        "except KeyError:\n",
        "    plt.plot(call_history.history['acc'])\n",
        "    plt.plot(call_history.history['val_acc'])\n",
        "plt.title('Accuracy vs. epochs')\n",
        "plt.ylabel('Accuracy')\n",
        "plt.xlabel('Epoch')\n",
        "plt.legend(['Training', 'Validation'], loc='lower right')\n",
        "plt.show() "
      ],
      "execution_count": 153,
      "outputs": [
        {
          "output_type": "display_data",
          "data": {
            "image/png": "[encoded data removed]",
            "text/plain": [
              "<Figure size 432x288 with 1 Axes>"
            ]
          },
          "metadata": {
            "tags": [],
            "needs_background": "light"
          }
        }
      ]
    },
    {
      "cell_type": "code",
      "metadata": {
        "id": "1w5NOgER-QPL",
        "colab_type": "code",
        "colab": {
          "base_uri": "https://localhost:8080/",
          "height": 295
        },
        "outputId": "7a055fd5-c8a8-418d-dd9f-64a391346c5a"
      },
      "source": [
        "plt.plot(call_history.history['loss'])\n",
        "plt.plot(call_history.history['val_loss'])\n",
        "plt.title('Loss vs. epochs')\n",
        "plt.ylabel('Loss')\n",
        "plt.xlabel('Epoch')\n",
        "plt.legend(['Training', 'Validation'], loc='upper right')\n",
        "plt.show() "
      ],
      "execution_count": 154,
      "outputs": [
        {
          "output_type": "display_data",
          "data": {
            "image/png": "[encoded data removed]",
            "text/plain": [
              "<Figure size 432x288 with 1 Axes>"
            ]
          },
          "metadata": {
            "tags": [],
            "needs_background": "light"
          }
        }
      ]
    },
    {
      "cell_type": "code",
      "metadata": {
        "id": "AsBmI_qM5CYh",
        "colab_type": "code",
        "colab": {
          "base_uri": "https://localhost:8080/",
          "height": 51
        },
        "outputId": "313027bc-eee0-4d39-ccfb-bff81134d0f0"
      },
      "source": [
        "# Evaluate the model on the test set\n",
        "\n",
        "test_loss, test_acc = call_model.evaluate(test_data, test_targets, verbose=0)\n",
        "print(\"Test loss: {:.3f}\\nTest accuracy: {:.2f}%\".format(test_loss, 100 * test_acc))"
      ],
      "execution_count": 155,
      "outputs": [
        {
          "output_type": "stream",
          "text": [
            "Test loss: 0.094\n",
            "Test accuracy: 100.00%\n"
          ],
          "name": "stdout"
        }
      ]
    },
    {
      "cell_type": "markdown",
      "metadata": {
        "id": "zqBMocM0-QPM",
        "colab_type": "text"
      },
      "source": [
        "Congratulations for completing this programming assignment! In the next week of the course we will learn how to save and load pre-trained models."
      ]
    }
  ]
}