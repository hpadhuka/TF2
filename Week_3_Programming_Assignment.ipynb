{
  "nbformat": 4,
  "nbformat_minor": 0,
  "metadata": {
    "coursera": {
      "course_slug": "tensor-flow-2-1",
      "graded_item_id": "mtZ4n",
      "launcher_item_id": "WphgK"
    },
    "kernelspec": {
      "display_name": "Python 3",
      "language": "python",
      "name": "python3"
    },
    "language_info": {
      "codemirror_mode": {
        "name": "ipython",
        "version": 3
      },
      "file_extension": ".py",
      "mimetype": "text/x-python",
      "name": "python",
      "nbconvert_exporter": "python",
      "pygments_lexer": "ipython3",
      "version": "3.7.1"
    },
    "colab": {
      "name": "Week 3 Programming Assignment.ipynb",
      "provenance": [],
      "collapsed_sections": [],
      "include_colab_link": true
    },
    "accelerator": "GPU"
  },
  "cells": [
    {
      "cell_type": "markdown",
      "metadata": {
        "id": "view-in-github",
        "colab_type": "text"
      },
      "source": [
        "<a href=\"https://colab.research.google.com/github/hpadhuka/TF2/blob/master/Week_3_Programming_Assignment.ipynb\" target=\"_parent\"><img src=\"https://colab.research.google.com/assets/colab-badge.svg\" alt=\"Open In Colab\"/></a>"
      ]
    },
    {
      "cell_type": "markdown",
      "metadata": {
        "id": "Crtnb3v_-QN8",
        "colab_type": "text"
      },
      "source": [
        "# Programming Assignment"
      ]
    },
    {
      "cell_type": "markdown",
      "metadata": {
        "id": "H5lhOgL2-QN9",
        "colab_type": "text"
      },
      "source": [
        "## Model validation on the Iris dataset"
      ]
    },
    {
      "cell_type": "markdown",
      "metadata": {
        "id": "3mu5pYMU-QN-",
        "colab_type": "text"
      },
      "source": [
        "### Instructions\n",
        "\n",
        "In this notebook, you will build, compile and fit a neural network model to the Iris dataset. You will also implement validation, regularisation and callbacks to improve your model.\n",
        "\n",
        "Some code cells are provided you in the notebook. You should avoid editing provided code, and make sure to execute the cells in order to avoid unexpected errors. Some cells begin with the line: \n",
        "\n",
        "`#### GRADED CELL ####`\n",
        "\n",
        "Don't move or edit this first line - this is what the automatic grader looks for to recognise graded cells. These cells require you to write your own code to complete them, and are automatically graded when you submit the notebook. Don't edit the function name or signature provided in these cells, otherwise the automatic grader might not function properly. Inside these graded cells, you can use any functions or classes that are imported below, but make sure you don't use any variables that are outside the scope of the function.\n",
        "\n",
        "### How to submit\n",
        "\n",
        "Complete all the tasks you are asked for in the worksheet. When you have finished and are happy with your code, press the **Submit Assignment** button at the top of this notebook.\n",
        "\n",
        "### Let's get started!\n",
        "\n",
        "We'll start running some imports, and loading the dataset. Do not edit the existing imports in the following cell. If you would like to make further Tensorflow imports, you should add them here."
      ]
    },
    {
      "cell_type": "code",
      "metadata": {
        "id": "TcJ88o-A-QOA",
        "colab_type": "code",
        "colab": {}
      },
      "source": [
        "#### PACKAGE IMPORTS ####\n",
        "\n",
        "# Run this cell first to import all required packages. Do not make any imports elsewhere in the notebook\n",
        "from numpy.random import seed\n",
        "seed(8)\n",
        "import tensorflow as tf\n",
        "import numpy as np\n",
        "import matplotlib.pyplot as plt\n",
        "from sklearn import datasets, model_selection \n",
        "%matplotlib inline\n",
        "\n",
        "# If you would like to make further imports from tensorflow, add them here\n",
        "from tensorflow.keras import Sequential\n",
        "from tensorflow.keras.layers import Dense, Dropout, BatchNormalization\n"
      ],
      "execution_count": 80,
      "outputs": []
    },
    {
      "cell_type": "markdown",
      "metadata": {
        "id": "FVxBqpU_-QOF",
        "colab_type": "text"
      },
      "source": [
        "#### The Iris dataset\n",
        "\n",
        "In this assignment, you will use the [Iris dataset](https://scikit-learn.org/stable/auto_examples/datasets/plot_iris_dataset.html). It consists of 50 samples from each of three species of Iris (Iris setosa, Iris virginica and Iris versicolor). Four features were measured from each sample: the length and the width of the sepals and petals, in centimeters. For a reference, see the following papers:\n",
        "\n",
        "- R. A. Fisher. \"The use of multiple measurements in taxonomic problems\". Annals of Eugenics. 7 (2): 179–188, 1936.\n",
        "\n",
        "Your goal is to construct a neural network that classifies each sample into the correct class, as well as applying validation and regularisation techniques."
      ]
    },
    {
      "cell_type": "markdown",
      "metadata": {
        "id": "BcDc7CXG-QOG",
        "colab_type": "text"
      },
      "source": [
        "#### Load and preprocess the data\n",
        "\n",
        "First read in the Iris dataset using `datasets.load_iris()`, and split the dataset into training and test sets."
      ]
    },
    {
      "cell_type": "code",
      "metadata": {
        "id": "2QCdzIiC-QOH",
        "colab_type": "code",
        "colab": {}
      },
      "source": [
        "#### GRADED CELL ####\n",
        "\n",
        "# Complete the following function. \n",
        "# Make sure to not change the function name or arguments.\n",
        "\n",
        "def read_in_and_split_data(iris_data):\n",
        "    \"\"\"\n",
        "    This function takes the Iris dataset as loaded by sklearn.datasets.load_iris(), and then \n",
        "    splits so that the training set includes 90% of the full dataset, with the test set \n",
        "    making up the remaining 10%.\n",
        "    Your function should return a tuple (train_data, test_data, train_targets, test_targets) \n",
        "    of appropriately split training and test data and targets.\n",
        "    \n",
        "    If you would like to import any further packages to aid you in this task, please do so in the \n",
        "    Package Imports cell above.\n",
        "    \"\"\"\n",
        "    train_data, test_data, train_targets, test_targets = model_selection.train_test_split(iris_data['data'], iris_data['target'], train_size=0.9)\n",
        "    return(train_data, test_data, train_targets, test_targets)\n",
        "    "
      ],
      "execution_count": 81,
      "outputs": []
    },
    {
      "cell_type": "code",
      "metadata": {
        "id": "TVTDnj1W-QOJ",
        "colab_type": "code",
        "colab": {}
      },
      "source": [
        "# Run your function to generate the test and training data.\n",
        "\n",
        "iris_data = datasets.load_iris()\n",
        "train_data, test_data, train_targets, test_targets = read_in_and_split_data(iris_data)"
      ],
      "execution_count": 82,
      "outputs": []
    },
    {
      "cell_type": "markdown",
      "metadata": {
        "id": "7i_TGqos-QON",
        "colab_type": "text"
      },
      "source": [
        "We will now convert the training and test targets using a one hot encoder."
      ]
    },
    {
      "cell_type": "code",
      "metadata": {
        "id": "uolvGsLl-QOO",
        "colab_type": "code",
        "colab": {}
      },
      "source": [
        "# Convert targets to a one-hot encoding\n",
        "\n",
        "train_targets = tf.keras.utils.to_categorical(np.array(train_targets))\n",
        "test_targets = tf.keras.utils.to_categorical(np.array(test_targets))"
      ],
      "execution_count": 83,
      "outputs": []
    },
    {
      "cell_type": "markdown",
      "metadata": {
        "id": "V6i8xjbh-QOR",
        "colab_type": "text"
      },
      "source": [
        "#### Build the neural network model\n"
      ]
    },
    {
      "cell_type": "markdown",
      "metadata": {
        "id": "oDQeTk4u-QOT",
        "colab_type": "text"
      },
      "source": [
        "You can now construct a model to fit to the data. Using the Sequential API, build your model according to the following specifications:\n",
        "\n",
        "* The model should use the `input_shape` in the function argument to set the input size in the first layer.\n",
        "* The first layer should be a dense layer with 64 units.\n",
        "* The weights of the first layer should be initialised with the He uniform initializer.\n",
        "* The biases of the first layer should be all initially equal to one.\n",
        "* There should then be a further four dense layers, each with 128 units.\n",
        "* This should be followed with four dense layers, each with 64 units.\n",
        "* All of these Dense layers should use the ReLU activation function.\n",
        "* The output Dense layer should have 3 units and the softmax activation function.\n",
        "\n",
        "In total, the network should have 10 layers."
      ]
    },
    {
      "cell_type": "code",
      "metadata": {
        "id": "vOCmCe2l-QOU",
        "colab_type": "code",
        "colab": {}
      },
      "source": [
        "#### GRADED CELL ####\n",
        "\n",
        "# Complete the following function. \n",
        "# Make sure to not change the function name or arguments.\n",
        "\n",
        "def get_model(input_shape):\n",
        "    \"\"\"\n",
        "    This function should build a Sequential model according to the above specification. Ensure the \n",
        "    weights are initialised by providing the input_shape argument in the first layer, given by the\n",
        "    function argument.\n",
        "    Your function should return the model.\n",
        "    \"\"\"\n",
        "\n",
        "    model = Sequential([Dense(64, kernel_initializer=tf.keras.initializers.he_uniform(), bias_initializer=tf.keras.initializers.Constant(1.), input_shape=input_shape, activation='relu'),\n",
        "                        Dense(128, activation='relu'),\n",
        "                        Dense(128, activation='relu'),\n",
        "                        Dense(128, activation='relu'),\n",
        "                        Dense(128, activation='relu'),\n",
        "                        Dense(64, activation='relu'),\n",
        "                        Dense(64, activation='relu'),\n",
        "                        Dense(64, activation='relu'),\n",
        "                        Dense(64, activation='relu'),\n",
        "                        Dense(3, activation='softmax')\n",
        "                       ])\n",
        "    return model\n",
        "    \n",
        "    "
      ],
      "execution_count": 84,
      "outputs": []
    },
    {
      "cell_type": "code",
      "metadata": {
        "id": "bEnEugVV-QOX",
        "colab_type": "code",
        "colab": {}
      },
      "source": [
        "# Run your function to get the model\n",
        "\n",
        "model = get_model(train_data[0].shape)"
      ],
      "execution_count": 85,
      "outputs": []
    },
    {
      "cell_type": "markdown",
      "metadata": {
        "id": "BC0h-ud1-QOa",
        "colab_type": "text"
      },
      "source": [
        "#### Compile the model\n",
        "\n",
        "You should now compile the model using the `compile` method. Remember that you need to specify an optimizer, a loss function and a metric to judge the performance of your model."
      ]
    },
    {
      "cell_type": "code",
      "metadata": {
        "id": "ReHF4llc-QOa",
        "colab_type": "code",
        "colab": {}
      },
      "source": [
        "#### GRADED CELL ####\n",
        "\n",
        "# Complete the following function. \n",
        "# Make sure to not change the function name or arguments.\n",
        "\n",
        "def compile_model(model):\n",
        "    \"\"\"\n",
        "    This function takes in the model returned from your get_model function, and compiles it with an optimiser,\n",
        "    loss function and metric.\n",
        "    Compile the model using the Adam optimiser (with learning rate set to 0.0001), \n",
        "    the categorical crossentropy loss function and accuracy as the only metric. \n",
        "    Your function doesn't need to return anything; the model will be compiled in-place.\n",
        "    \"\"\"\n",
        "    model.compile(optimizer=tf.keras.optimizers.Adam(learning_rate=0.0001), loss=tf.keras.losses.CategoricalCrossentropy(), metrics = [tf.keras.metrics.Accuracy()])\n",
        "    "
      ],
      "execution_count": 86,
      "outputs": []
    },
    {
      "cell_type": "code",
      "metadata": {
        "id": "7qJOJunW-QOd",
        "colab_type": "code",
        "colab": {}
      },
      "source": [
        "# Run your function to compile the model\n",
        "\n",
        "compile_model(model)"
      ],
      "execution_count": 87,
      "outputs": []
    },
    {
      "cell_type": "markdown",
      "metadata": {
        "id": "OWxL16Hk-QOh",
        "colab_type": "text"
      },
      "source": [
        "#### Fit the model to the training data\n",
        "\n",
        "Now you should train the model on the Iris dataset, using the model's `fit` method. \n",
        "* Run the training for a fixed number of epochs, given by the function's `epochs` argument.\n",
        "* Return the training history to be used for plotting the learning curves.\n",
        "* Set the batch size to 40.\n",
        "* Set the validation set to be 15% of the training set.\n"
      ]
    },
    {
      "cell_type": "code",
      "metadata": {
        "id": "MYTwJVXq-QOi",
        "colab_type": "code",
        "colab": {}
      },
      "source": [
        "#### GRADED CELL ####\n",
        "\n",
        "# Complete the following function. \n",
        "# Make sure to not change the function name or arguments.\n",
        "\n",
        "def train_model(model, train_data, train_targets, epochs):\n",
        "    \"\"\"\n",
        "    This function should train the model for the given number of epochs on the \n",
        "    train_data and train_targets. \n",
        "    Your function should return the training history, as returned by model.fit.\n",
        "    \"\"\"\n",
        "    \n",
        "    history = model.fit(train_data, train_targets, epochs=epochs, batch_size=40, validation_split=0.15, verbose=False)\n",
        "    return history"
      ],
      "execution_count": 88,
      "outputs": []
    },
    {
      "cell_type": "code",
      "metadata": {
        "id": "MOE4iz_w-QOl",
        "colab_type": "code",
        "colab": {}
      },
      "source": [
        "# Run your function to train the model\n",
        "\n",
        "history = train_model(model, train_data, train_targets, epochs=800)"
      ],
      "execution_count": 89,
      "outputs": []
    },
    {
      "cell_type": "markdown",
      "metadata": {
        "id": "ssIHu5cM-QOn",
        "colab_type": "text"
      },
      "source": [
        "#### Plot the learning curves\n",
        "\n",
        "We will now plot two graphs:\n",
        "* Epoch vs accuracy\n",
        "* Epoch vs loss\n"
      ]
    },
    {
      "cell_type": "code",
      "metadata": {
        "id": "JRFBWnUX-QOo",
        "colab_type": "code",
        "colab": {
          "base_uri": "https://localhost:8080/",
          "height": 295
        },
        "outputId": "5e8d4140-6e25-4f08-82e4-29277003a52e"
      },
      "source": [
        "#Run this cell to plot the epoch vs accuracy graph\n",
        "\n",
        "try:\n",
        "    plt.plot(history.history['accuracy'])\n",
        "    plt.plot(history.history['val_accuracy'])\n",
        "except KeyError:\n",
        "    plt.plot(history.history['acc'])\n",
        "    plt.plot(history.history['val_acc'])\n",
        "plt.title('Accuracy vs. epochs')\n",
        "plt.ylabel('Loss')\n",
        "plt.xlabel('Epoch')\n",
        "plt.legend(['Training', 'Validation'], loc='lower right')\n",
        "plt.show() "
      ],
      "execution_count": 90,
      "outputs": [
        {
          "output_type": "display_data",
          "data": {
            "image/png": "[encoded data removed]",
            "text/plain": [
              "<Figure size 432x288 with 1 Axes>"
            ]
          },
          "metadata": {
            "tags": [],
            "needs_background": "light"
          }
        }
      ]
    },
    {
      "cell_type": "code",
      "metadata": {
        "id": "tj0Ir6Sr-QOq",
        "colab_type": "code",
        "colab": {
          "base_uri": "https://localhost:8080/",
          "height": 295
        },
        "outputId": "f8a50ac1-ab13-45d3-bb03-de63e7df6186"
      },
      "source": [
        "#Run this cell to plot the epoch vs loss graph\n",
        "plt.plot(history.history['loss'])\n",
        "plt.plot(history.history['val_loss'])\n",
        "plt.title('Loss vs. epochs')\n",
        "plt.ylabel('Loss')\n",
        "plt.xlabel('Epoch')\n",
        "plt.legend(['Training', 'Validation'], loc='upper right')\n",
        "plt.show() "
      ],
      "execution_count": 91,
      "outputs": [
        {
          "output_type": "display_data",
          "data": {
            "image/png": "[encoded data removed]",
            "text/plain": [
              "<Figure size 432x288 with 1 Axes>"
            ]
          },
          "metadata": {
            "tags": [],
            "needs_background": "light"
          }
        }
      ]
    },
    {
      "cell_type": "markdown",
      "metadata": {
        "id": "qrsUWJwj-QOr",
        "colab_type": "text"
      },
      "source": [
        "Oh no! We have overfit our dataset. You should now try to now try to mitigate this overfitting."
      ]
    },
    {
      "cell_type": "markdown",
      "metadata": {
        "id": "R6N_uo6m-QOs",
        "colab_type": "text"
      },
      "source": [
        "#### Reducing overfitting in the model"
      ]
    },
    {
      "cell_type": "markdown",
      "metadata": {
        "id": "BGME_x9a-QOs",
        "colab_type": "text"
      },
      "source": [
        "You should now define a new regularised model.\n",
        "The specs for the regularised model are the same as our original model, with the addition of two dropout layers, weight decay, and a batch normalisation layer. \n",
        "\n",
        "In particular:\n",
        "\n",
        "* Add a dropout layer after the 3rd Dense layer\n",
        "* Then there should be two more Dense layers with 128 units before a batch normalisation layer\n",
        "* Following this, two more Dense layers with 64 units and then another Dropout layer\n",
        "* Two more Dense layers with 64 units and then the final 3-way softmax layer\n",
        "* Add weight decay (l2 kernel regularisation) in all Dense layers except the final softmax layer"
      ]
    },
    {
      "cell_type": "code",
      "metadata": {
        "id": "rYytfpmm-QOv",
        "colab_type": "code",
        "colab": {}
      },
      "source": [
        "#### GRADED CELL ####\n",
        "\n",
        "# Complete the following function. \n",
        "# Make sure to not change the function name or arguments.\n",
        "\n",
        "def get_regularised_model(input_shape, dropout_rate, weight_decay):\n",
        "    \"\"\"\n",
        "    This function should build a regularised Sequential model according to the above specification. \n",
        "    The dropout_rate argument in the function should be used to set the Dropout rate for all Dropout layers.\n",
        "    L2 kernel regularisation (weight decay) should be added using the weight_decay argument to \n",
        "    set the weight decay coefficient in all Dense layers that use L2 regularisation.\n",
        "    Ensure the weights are initialised by providing the input_shape argument in the first layer, given by the\n",
        "    function argument input_shape.\n",
        "    Your function should return the model.\n",
        "    \"\"\"\n",
        "    \n",
        "    model = Sequential([Dense(64, kernel_initializer=tf.keras.initializers.he_uniform(), kernel_regularizer=tf.keras.regularizers.l2(l2=weight_decay), bias_initializer=tf.keras.initializers.Constant(1.), input_shape=input_shape, activation='relu'),\n",
        "                        Dense(128, kernel_regularizer=tf.keras.regularizers.l2(l2=weight_decay), activation='relu'),\n",
        "                        Dense(128, kernel_regularizer=tf.keras.regularizers.l2(l2=weight_decay), activation='relu'),\n",
        "                        Dense(128, kernel_regularizer=tf.keras.regularizers.l2(l2=weight_decay), activation='relu'),\n",
        "                        Dropout(dropout_rate),\n",
        "                        Dense(128, kernel_regularizer=tf.keras.regularizers.l2(l2=weight_decay), activation='relu'),\n",
        "                        Dense(128, kernel_regularizer=tf.keras.regularizers.l2(l2=weight_decay), activation='relu'),\n",
        "                        BatchNormalization(),\n",
        "                        Dense(64, kernel_regularizer=tf.keras.regularizers.l2(l2=weight_decay), activation='relu'),\n",
        "                        Dense(64, kernel_regularizer=tf.keras.regularizers.l2(l2=weight_decay), activation='relu'),\n",
        "                        Dropout(dropout_rate),\n",
        "                        Dense(64, kernel_regularizer=tf.keras.regularizers.l2(l2=weight_decay), activation='relu'),\n",
        "                        Dense(64, kernel_regularizer=tf.keras.regularizers.l2(l2=weight_decay), activation='relu'),\n",
        "                        Dense(3, activation='softmax')\n",
        "                       ])\n",
        "    return model\n",
        "    "
      ],
      "execution_count": 92,
      "outputs": []
    },
    {
      "cell_type": "markdown",
      "metadata": {
        "id": "qw79AOPy-QOx",
        "colab_type": "text"
      },
      "source": [
        "#### Instantiate, compile and train the model"
      ]
    },
    {
      "cell_type": "code",
      "metadata": {
        "id": "iO8JYVXB-QOz",
        "colab_type": "code",
        "colab": {}
      },
      "source": [
        "# Instantiate the model, using a dropout rate of 0.3 and weight decay coefficient of 0.001\n",
        "\n",
        "reg_model = get_regularised_model(train_data[0].shape, 0.3, 0.001)"
      ],
      "execution_count": 93,
      "outputs": []
    },
    {
      "cell_type": "code",
      "metadata": {
        "id": "nOEqCQ3I-QO2",
        "colab_type": "code",
        "colab": {}
      },
      "source": [
        "# Compile the model\n",
        "\n",
        "compile_model(reg_model)"
      ],
      "execution_count": 94,
      "outputs": []
    },
    {
      "cell_type": "code",
      "metadata": {
        "id": "5Eg83stX-QO6",
        "colab_type": "code",
        "colab": {}
      },
      "source": [
        "# Train the model\n",
        "\n",
        "reg_history = train_model(reg_model, train_data, train_targets, epochs=800)"
      ],
      "execution_count": 95,
      "outputs": []
    },
    {
      "cell_type": "markdown",
      "metadata": {
        "id": "gccWcGCz-QO8",
        "colab_type": "text"
      },
      "source": [
        "#### Plot the learning curves\n",
        "\n",
        "Let's now plot the loss and accuracy for the training and validation sets."
      ]
    },
    {
      "cell_type": "code",
      "metadata": {
        "id": "j8uieP3K-QO9",
        "colab_type": "code",
        "colab": {
          "base_uri": "https://localhost:8080/",
          "height": 295
        },
        "outputId": "fb7a78f3-6c7c-467e-aeec-3210c36ac2b2"
      },
      "source": [
        "#Run this cell to plot the new accuracy vs epoch graph\n",
        "\n",
        "try:\n",
        "    plt.plot(reg_history.history['accuracy'])\n",
        "    plt.plot(reg_history.history['val_accuracy'])\n",
        "except KeyError:\n",
        "    plt.plot(reg_history.history['acc'])\n",
        "    plt.plot(reg_history.history['val_acc'])\n",
        "plt.title('Accuracy vs. epochs')\n",
        "plt.ylabel('Loss')\n",
        "plt.xlabel('Epoch')\n",
        "plt.legend(['Training', 'Validation'], loc='lower right')\n",
        "plt.show() "
      ],
      "execution_count": 96,
      "outputs": [
        {
          "output_type": "display_data",
          "data": {
            "image/png": "[encoded data removed]",
            "text/plain": [
              "<Figure size 432x288 with 1 Axes>"
            ]
          },
          "metadata": {
            "tags": [],
            "needs_background": "light"
          }
        }
      ]
    },
    {
      "cell_type": "code",
      "metadata": {
        "id": "zpgy4mVP-QO_",
        "colab_type": "code",
        "colab": {
          "base_uri": "https://localhost:8080/",
          "height": 295
        },
        "outputId": "7f35218a-3c35-47be-e613-c35b12b3e9f9"
      },
      "source": [
        "#Run this cell to plot the new loss vs epoch graph\n",
        "\n",
        "plt.plot(reg_history.history['loss'])\n",
        "plt.plot(reg_history.history['val_loss'])\n",
        "plt.title('Loss vs. epochs')\n",
        "plt.ylabel('Loss')\n",
        "plt.xlabel('Epoch')\n",
        "plt.legend(['Training', 'Validation'], loc='upper right')\n",
        "plt.show() "
      ],
      "execution_count": 97,
      "outputs": [
        {
          "output_type": "display_data",
          "data": {
            "image/png": "[encoded data removed]",
            "text/plain": [
              "<Figure size 432x288 with 1 Axes>"
            ]
          },
          "metadata": {
            "tags": [],
            "needs_background": "light"
          }
        }
      ]
    },
    {
      "cell_type": "markdown",
      "metadata": {
        "id": "na0xiTpm-QPB",
        "colab_type": "text"
      },
      "source": [
        "We can see that the regularisation has helped to reduce the overfitting of the network.\n",
        "You will now incorporate callbacks into a new training run that implements early stopping and learning rate reduction on plateaux.\n",
        "\n",
        "Fill in the function below so that:\n",
        "\n",
        "* It creates an `EarlyStopping` callback object and a `ReduceLROnPlateau` callback object\n",
        "* The early stopping callback is used and monitors validation loss with the mode set to `\"min\"` and patience of 30.\n",
        "* The learning rate reduction on plateaux is used with a learning rate factor of 0.2 and a patience of 20."
      ]
    },
    {
      "cell_type": "code",
      "metadata": {
        "id": "18JaoKcd-QPC",
        "colab_type": "code",
        "colab": {}
      },
      "source": [
        "#### GRADED CELL ####\n",
        "\n",
        "# Complete the following function. \n",
        "# Make sure to not change the function name or arguments.\n",
        "\n",
        "def get_callbacks():\n",
        "    \"\"\"\n",
        "    This function should create and return a tuple (early_stopping, learning_rate_reduction) callbacks.\n",
        "    The callbacks should be instantiated according to the above requirements.\n",
        "    \"\"\"\n",
        "    early_stopping = tf.keras.callbacks.EarlyStopping(mode='min', patience=30)\n",
        "    learning_rate_reduction = tf.keras.callbacks.ReduceLROnPlateau(factor=0.2, patience=20)\n",
        "    return (early_stopping, learning_rate_reduction)\n",
        "    "
      ],
      "execution_count": 98,
      "outputs": []
    },
    {
      "cell_type": "markdown",
      "metadata": {
        "id": "eqi6pF-v-QPD",
        "colab_type": "text"
      },
      "source": [
        "Run the cell below to instantiate and train the regularised model with the callbacks."
      ]
    },
    {
      "cell_type": "code",
      "metadata": {
        "id": "emW-CYSd-QPE",
        "colab_type": "code",
        "colab": {
          "base_uri": "https://localhost:8080/",
          "height": 1000
        },
        "outputId": "55d85eea-1d9e-4c5b-b3b5-b04e4cc71da8"
      },
      "source": [
        "call_model = get_regularised_model(train_data[0].shape, 0.3, 0.0001)\n",
        "compile_model(call_model)\n",
        "early_stopping, learning_rate_reduction = get_callbacks()\n",
        "call_history = call_model.fit(train_data, train_targets, epochs=800, validation_split=0.15,\n",
        "                         callbacks=[early_stopping, learning_rate_reduction], verbose=2)"
      ],
      "execution_count": 99,
      "outputs": [
        {
          "output_type": "stream",
          "text": [
            "Epoch 1/800\n",
            "4/4 - 0s - loss: 1.2578 - accuracy: 0.0000e+00 - val_loss: 1.3008 - val_accuracy: 0.0000e+00\n",
            "Epoch 2/800\n",
            "4/4 - 0s - loss: 1.2282 - accuracy: 0.0000e+00 - val_loss: 1.2866 - val_accuracy: 0.0000e+00\n",
            "Epoch 3/800\n",
            "4/4 - 0s - loss: 1.2619 - accuracy: 0.0000e+00 - val_loss: 1.2780 - val_accuracy: 0.0000e+00\n",
            "Epoch 4/800\n",
            "4/4 - 0s - loss: 1.2470 - accuracy: 0.0000e+00 - val_loss: 1.2683 - val_accuracy: 0.0000e+00\n",
            "Epoch 5/800\n",
            "4/4 - 0s - loss: 1.2491 - accuracy: 0.0000e+00 - val_loss: 1.2599 - val_accuracy: 0.0000e+00\n",
            "Epoch 6/800\n",
            "4/4 - 0s - loss: 1.2472 - accuracy: 0.0000e+00 - val_loss: 1.2513 - val_accuracy: 0.0000e+00\n",
            "Epoch 7/800\n",
            "4/4 - 0s - loss: 1.2135 - accuracy: 0.0000e+00 - val_loss: 1.2418 - val_accuracy: 0.0000e+00\n",
            "Epoch 8/800\n",
            "4/4 - 0s - loss: 1.1650 - accuracy: 0.0000e+00 - val_loss: 1.2329 - val_accuracy: 0.0000e+00\n",
            "Epoch 9/800\n",
            "4/4 - 0s - loss: 1.1838 - accuracy: 0.0000e+00 - val_loss: 1.2160 - val_accuracy: 0.0000e+00\n",
            "Epoch 10/800\n",
            "4/4 - 0s - loss: 1.1813 - accuracy: 0.0000e+00 - val_loss: 1.2031 - val_accuracy: 0.0000e+00\n",
            "Epoch 11/800\n",
            "4/4 - 0s - loss: 1.1760 - accuracy: 0.0000e+00 - val_loss: 1.1942 - val_accuracy: 0.0000e+00\n",
            "Epoch 12/800\n",
            "4/4 - 0s - loss: 1.1644 - accuracy: 0.0000e+00 - val_loss: 1.1873 - val_accuracy: 0.0000e+00\n",
            "Epoch 13/800\n",
            "4/4 - 0s - loss: 1.1559 - accuracy: 0.0000e+00 - val_loss: 1.1825 - val_accuracy: 0.0000e+00\n",
            "Epoch 14/800\n",
            "4/4 - 0s - loss: 1.1595 - accuracy: 0.0000e+00 - val_loss: 1.1808 - val_accuracy: 0.0000e+00\n",
            "Epoch 15/800\n",
            "4/4 - 0s - loss: 1.1603 - accuracy: 0.0000e+00 - val_loss: 1.1764 - val_accuracy: 0.0000e+00\n",
            "Epoch 16/800\n",
            "4/4 - 0s - loss: 1.1681 - accuracy: 0.0000e+00 - val_loss: 1.1728 - val_accuracy: 0.0000e+00\n",
            "Epoch 17/800\n",
            "4/4 - 0s - loss: 1.1075 - accuracy: 0.0000e+00 - val_loss: 1.1707 - val_accuracy: 0.0000e+00\n",
            "Epoch 18/800\n",
            "4/4 - 0s - loss: 1.1232 - accuracy: 0.0000e+00 - val_loss: 1.1655 - val_accuracy: 0.0000e+00\n",
            "Epoch 19/800\n",
            "4/4 - 0s - loss: 1.1189 - accuracy: 0.0000e+00 - val_loss: 1.1588 - val_accuracy: 0.0000e+00\n",
            "Epoch 20/800\n",
            "4/4 - 0s - loss: 1.1129 - accuracy: 0.0000e+00 - val_loss: 1.1523 - val_accuracy: 0.0000e+00\n",
            "Epoch 21/800\n",
            "4/4 - 0s - loss: 1.1172 - accuracy: 0.0000e+00 - val_loss: 1.1461 - val_accuracy: 0.0000e+00\n",
            "Epoch 22/800\n",
            "4/4 - 0s - loss: 1.0930 - accuracy: 0.0000e+00 - val_loss: 1.1405 - val_accuracy: 0.0000e+00\n",
            "Epoch 23/800\n",
            "4/4 - 0s - loss: 1.1115 - accuracy: 0.0000e+00 - val_loss: 1.1359 - val_accuracy: 0.0000e+00\n",
            "Epoch 24/800\n",
            "4/4 - 0s - loss: 1.0896 - accuracy: 0.0000e+00 - val_loss: 1.1312 - val_accuracy: 0.0000e+00\n",
            "Epoch 25/800\n",
            "4/4 - 0s - loss: 1.1000 - accuracy: 0.0000e+00 - val_loss: 1.1248 - val_accuracy: 0.0000e+00\n",
            "Epoch 26/800\n",
            "4/4 - 0s - loss: 1.0647 - accuracy: 0.0000e+00 - val_loss: 1.1179 - val_accuracy: 0.0000e+00\n",
            "Epoch 27/800\n",
            "4/4 - 0s - loss: 1.0216 - accuracy: 0.0000e+00 - val_loss: 1.1112 - val_accuracy: 0.0000e+00\n",
            "Epoch 28/800\n",
            "4/4 - 0s - loss: 1.0062 - accuracy: 0.0000e+00 - val_loss: 1.1018 - val_accuracy: 0.0000e+00\n",
            "Epoch 29/800\n",
            "4/4 - 0s - loss: 1.0188 - accuracy: 0.0000e+00 - val_loss: 1.0875 - val_accuracy: 0.0000e+00\n",
            "Epoch 30/800\n",
            "4/4 - 0s - loss: 1.0137 - accuracy: 0.0000e+00 - val_loss: 1.0707 - val_accuracy: 0.0000e+00\n",
            "Epoch 31/800\n",
            "4/4 - 0s - loss: 0.9871 - accuracy: 0.0000e+00 - val_loss: 1.0528 - val_accuracy: 0.0000e+00\n",
            "Epoch 32/800\n",
            "4/4 - 0s - loss: 0.9457 - accuracy: 0.0000e+00 - val_loss: 1.0261 - val_accuracy: 0.0000e+00\n",
            "Epoch 33/800\n",
            "4/4 - 0s - loss: 0.9109 - accuracy: 0.0000e+00 - val_loss: 1.0003 - val_accuracy: 0.0000e+00\n",
            "Epoch 34/800\n",
            "4/4 - 0s - loss: 0.8663 - accuracy: 0.0000e+00 - val_loss: 0.9785 - val_accuracy: 0.0000e+00\n",
            "Epoch 35/800\n",
            "4/4 - 0s - loss: 0.8894 - accuracy: 0.0000e+00 - val_loss: 0.9548 - val_accuracy: 0.0000e+00\n",
            "Epoch 36/800\n",
            "4/4 - 0s - loss: 0.8466 - accuracy: 0.0000e+00 - val_loss: 0.9290 - val_accuracy: 0.0000e+00\n",
            "Epoch 37/800\n",
            "4/4 - 0s - loss: 0.8407 - accuracy: 0.0000e+00 - val_loss: 0.9028 - val_accuracy: 0.0000e+00\n",
            "Epoch 38/800\n",
            "4/4 - 0s - loss: 0.8061 - accuracy: 0.0000e+00 - val_loss: 0.8754 - val_accuracy: 0.0000e+00\n",
            "Epoch 39/800\n",
            "4/4 - 0s - loss: 0.7944 - accuracy: 0.0000e+00 - val_loss: 0.8468 - val_accuracy: 0.0000e+00\n",
            "Epoch 40/800\n",
            "4/4 - 0s - loss: 0.7569 - accuracy: 0.0000e+00 - val_loss: 0.8159 - val_accuracy: 0.0000e+00\n",
            "Epoch 41/800\n",
            "4/4 - 0s - loss: 0.7484 - accuracy: 0.0000e+00 - val_loss: 0.7846 - val_accuracy: 0.0000e+00\n",
            "Epoch 42/800\n",
            "4/4 - 0s - loss: 0.7304 - accuracy: 0.0000e+00 - val_loss: 0.7571 - val_accuracy: 0.0000e+00\n",
            "Epoch 43/800\n",
            "4/4 - 0s - loss: 0.7152 - accuracy: 0.0000e+00 - val_loss: 0.7319 - val_accuracy: 0.0000e+00\n",
            "Epoch 44/800\n",
            "4/4 - 0s - loss: 0.7067 - accuracy: 0.0000e+00 - val_loss: 0.7094 - val_accuracy: 0.0000e+00\n",
            "Epoch 45/800\n",
            "4/4 - 0s - loss: 0.6896 - accuracy: 0.0000e+00 - val_loss: 0.6918 - val_accuracy: 0.0000e+00\n",
            "Epoch 46/800\n",
            "4/4 - 0s - loss: 0.6885 - accuracy: 0.0000e+00 - val_loss: 0.6785 - val_accuracy: 0.0000e+00\n",
            "Epoch 47/800\n",
            "4/4 - 0s - loss: 0.6714 - accuracy: 0.0000e+00 - val_loss: 0.6658 - val_accuracy: 0.0000e+00\n",
            "Epoch 48/800\n",
            "4/4 - 0s - loss: 0.6276 - accuracy: 0.0000e+00 - val_loss: 0.6499 - val_accuracy: 0.0000e+00\n",
            "Epoch 49/800\n",
            "4/4 - 0s - loss: 0.6579 - accuracy: 0.0000e+00 - val_loss: 0.6339 - val_accuracy: 0.0000e+00\n",
            "Epoch 50/800\n",
            "4/4 - 0s - loss: 0.6734 - accuracy: 0.0000e+00 - val_loss: 0.6162 - val_accuracy: 0.0000e+00\n",
            "Epoch 51/800\n",
            "4/4 - 0s - loss: 0.6364 - accuracy: 0.0000e+00 - val_loss: 0.5975 - val_accuracy: 0.0000e+00\n",
            "Epoch 52/800\n",
            "4/4 - 0s - loss: 0.5791 - accuracy: 0.0000e+00 - val_loss: 0.5840 - val_accuracy: 0.0000e+00\n",
            "Epoch 53/800\n",
            "4/4 - 0s - loss: 0.5772 - accuracy: 0.0000e+00 - val_loss: 0.5721 - val_accuracy: 0.0000e+00\n",
            "Epoch 54/800\n",
            "4/4 - 0s - loss: 0.5547 - accuracy: 0.0000e+00 - val_loss: 0.5600 - val_accuracy: 0.0000e+00\n",
            "Epoch 55/800\n",
            "4/4 - 0s - loss: 0.5667 - accuracy: 0.0000e+00 - val_loss: 0.5493 - val_accuracy: 0.0000e+00\n",
            "Epoch 56/800\n",
            "4/4 - 0s - loss: 0.5320 - accuracy: 0.0000e+00 - val_loss: 0.5408 - val_accuracy: 0.0000e+00\n",
            "Epoch 57/800\n",
            "4/4 - 0s - loss: 0.5377 - accuracy: 0.0000e+00 - val_loss: 0.5286 - val_accuracy: 0.0000e+00\n",
            "Epoch 58/800\n",
            "4/4 - 0s - loss: 0.5586 - accuracy: 0.0000e+00 - val_loss: 0.5135 - val_accuracy: 0.0000e+00\n",
            "Epoch 59/800\n",
            "4/4 - 0s - loss: 0.4852 - accuracy: 0.0000e+00 - val_loss: 0.4970 - val_accuracy: 0.0000e+00\n",
            "Epoch 60/800\n",
            "4/4 - 0s - loss: 0.5241 - accuracy: 0.0000e+00 - val_loss: 0.4844 - val_accuracy: 0.0000e+00\n",
            "Epoch 61/800\n",
            "4/4 - 0s - loss: 0.4865 - accuracy: 0.0000e+00 - val_loss: 0.4758 - val_accuracy: 0.0000e+00\n",
            "Epoch 62/800\n",
            "4/4 - 0s - loss: 0.4651 - accuracy: 0.0000e+00 - val_loss: 0.4634 - val_accuracy: 0.0000e+00\n",
            "Epoch 63/800\n",
            "4/4 - 0s - loss: 0.4422 - accuracy: 0.0000e+00 - val_loss: 0.4496 - val_accuracy: 0.0000e+00\n",
            "Epoch 64/800\n",
            "4/4 - 0s - loss: 0.4195 - accuracy: 0.0000e+00 - val_loss: 0.4361 - val_accuracy: 0.0000e+00\n",
            "Epoch 65/800\n",
            "4/4 - 0s - loss: 0.4184 - accuracy: 0.0000e+00 - val_loss: 0.4222 - val_accuracy: 0.0000e+00\n",
            "Epoch 66/800\n",
            "4/4 - 0s - loss: 0.4145 - accuracy: 0.0000e+00 - val_loss: 0.4098 - val_accuracy: 0.0000e+00\n",
            "Epoch 67/800\n",
            "4/4 - 0s - loss: 0.3966 - accuracy: 0.0000e+00 - val_loss: 0.4028 - val_accuracy: 0.0000e+00\n",
            "Epoch 68/800\n",
            "4/4 - 0s - loss: 0.3790 - accuracy: 0.0000e+00 - val_loss: 0.3954 - val_accuracy: 0.0000e+00\n",
            "Epoch 69/800\n",
            "4/4 - 0s - loss: 0.4126 - accuracy: 0.0000e+00 - val_loss: 0.3842 - val_accuracy: 0.0000e+00\n",
            "Epoch 70/800\n",
            "4/4 - 0s - loss: 0.3520 - accuracy: 0.0000e+00 - val_loss: 0.3681 - val_accuracy: 0.0000e+00\n",
            "Epoch 71/800\n",
            "4/4 - 0s - loss: 0.3413 - accuracy: 0.0000e+00 - val_loss: 0.3511 - val_accuracy: 0.0000e+00\n",
            "Epoch 72/800\n",
            "4/4 - 0s - loss: 0.3445 - accuracy: 0.0000e+00 - val_loss: 0.3348 - val_accuracy: 0.0000e+00\n",
            "Epoch 73/800\n",
            "4/4 - 0s - loss: 0.3723 - accuracy: 0.0000e+00 - val_loss: 0.3276 - val_accuracy: 0.0000e+00\n",
            "Epoch 74/800\n",
            "4/4 - 0s - loss: 0.3388 - accuracy: 0.0000e+00 - val_loss: 0.3367 - val_accuracy: 0.0000e+00\n",
            "Epoch 75/800\n",
            "4/4 - 0s - loss: 0.2815 - accuracy: 0.0000e+00 - val_loss: 0.3438 - val_accuracy: 0.0000e+00\n",
            "Epoch 76/800\n",
            "4/4 - 0s - loss: 0.2455 - accuracy: 0.0000e+00 - val_loss: 0.3348 - val_accuracy: 0.0000e+00\n",
            "Epoch 77/800\n",
            "4/4 - 0s - loss: 0.2851 - accuracy: 0.0000e+00 - val_loss: 0.3341 - val_accuracy: 0.0000e+00\n",
            "Epoch 78/800\n",
            "4/4 - 0s - loss: 0.2401 - accuracy: 0.0000e+00 - val_loss: 0.3060 - val_accuracy: 0.0000e+00\n",
            "Epoch 79/800\n",
            "4/4 - 0s - loss: 0.2518 - accuracy: 0.0000e+00 - val_loss: 0.3048 - val_accuracy: 0.0000e+00\n",
            "Epoch 80/800\n",
            "4/4 - 0s - loss: 0.2953 - accuracy: 0.0000e+00 - val_loss: 0.3124 - val_accuracy: 0.0000e+00\n",
            "Epoch 81/800\n",
            "4/4 - 0s - loss: 0.2365 - accuracy: 0.0000e+00 - val_loss: 0.3212 - val_accuracy: 0.0000e+00\n",
            "Epoch 82/800\n",
            "4/4 - 0s - loss: 0.2342 - accuracy: 0.0000e+00 - val_loss: 0.3209 - val_accuracy: 0.0000e+00\n",
            "Epoch 83/800\n",
            "4/4 - 0s - loss: 0.2263 - accuracy: 0.0000e+00 - val_loss: 0.3154 - val_accuracy: 0.0000e+00\n",
            "Epoch 84/800\n",
            "4/4 - 0s - loss: 0.1965 - accuracy: 0.0000e+00 - val_loss: 0.3035 - val_accuracy: 0.0000e+00\n",
            "Epoch 85/800\n",
            "4/4 - 0s - loss: 0.2277 - accuracy: 0.0000e+00 - val_loss: 0.2823 - val_accuracy: 0.0000e+00\n",
            "Epoch 86/800\n",
            "4/4 - 0s - loss: 0.1908 - accuracy: 0.0000e+00 - val_loss: 0.2912 - val_accuracy: 0.0000e+00\n",
            "Epoch 87/800\n",
            "4/4 - 0s - loss: 0.2430 - accuracy: 0.0000e+00 - val_loss: 0.2988 - val_accuracy: 0.0000e+00\n",
            "Epoch 88/800\n",
            "4/4 - 0s - loss: 0.1733 - accuracy: 0.0000e+00 - val_loss: 0.2899 - val_accuracy: 0.0000e+00\n",
            "Epoch 89/800\n",
            "4/4 - 0s - loss: 0.2455 - accuracy: 0.0000e+00 - val_loss: 0.2762 - val_accuracy: 0.0000e+00\n",
            "Epoch 90/800\n",
            "4/4 - 0s - loss: 0.1954 - accuracy: 0.0000e+00 - val_loss: 0.2827 - val_accuracy: 0.0000e+00\n",
            "Epoch 91/800\n",
            "4/4 - 0s - loss: 0.1684 - accuracy: 0.0000e+00 - val_loss: 0.2958 - val_accuracy: 0.0000e+00\n",
            "Epoch 92/800\n",
            "4/4 - 0s - loss: 0.2004 - accuracy: 0.0000e+00 - val_loss: 0.3052 - val_accuracy: 0.0000e+00\n",
            "Epoch 93/800\n",
            "4/4 - 0s - loss: 0.2090 - accuracy: 0.0000e+00 - val_loss: 0.2925 - val_accuracy: 0.0000e+00\n",
            "Epoch 94/800\n",
            "4/4 - 0s - loss: 0.1996 - accuracy: 0.0000e+00 - val_loss: 0.2702 - val_accuracy: 0.0000e+00\n",
            "Epoch 95/800\n",
            "4/4 - 0s - loss: 0.1651 - accuracy: 0.0000e+00 - val_loss: 0.2888 - val_accuracy: 0.0000e+00\n",
            "Epoch 96/800\n",
            "4/4 - 0s - loss: 0.1887 - accuracy: 0.0000e+00 - val_loss: 0.2808 - val_accuracy: 0.0000e+00\n",
            "Epoch 97/800\n",
            "4/4 - 0s - loss: 0.1932 - accuracy: 0.0000e+00 - val_loss: 0.2759 - val_accuracy: 0.0000e+00\n",
            "Epoch 98/800\n",
            "4/4 - 0s - loss: 0.1473 - accuracy: 0.0000e+00 - val_loss: 0.2807 - val_accuracy: 0.0000e+00\n",
            "Epoch 99/800\n",
            "4/4 - 0s - loss: 0.1755 - accuracy: 0.0000e+00 - val_loss: 0.2920 - val_accuracy: 0.0000e+00\n",
            "Epoch 100/800\n",
            "4/4 - 0s - loss: 0.1957 - accuracy: 0.0000e+00 - val_loss: 0.2977 - val_accuracy: 0.0000e+00\n",
            "Epoch 101/800\n",
            "4/4 - 0s - loss: 0.1868 - accuracy: 0.0000e+00 - val_loss: 0.3131 - val_accuracy: 0.0000e+00\n",
            "Epoch 102/800\n",
            "4/4 - 0s - loss: 0.1628 - accuracy: 0.0000e+00 - val_loss: 0.2715 - val_accuracy: 0.0000e+00\n",
            "Epoch 103/800\n",
            "4/4 - 0s - loss: 0.1891 - accuracy: 0.0000e+00 - val_loss: 0.2716 - val_accuracy: 0.0000e+00\n",
            "Epoch 104/800\n",
            "4/4 - 0s - loss: 0.1742 - accuracy: 0.0000e+00 - val_loss: 0.3297 - val_accuracy: 0.0000e+00\n",
            "Epoch 105/800\n",
            "4/4 - 0s - loss: 0.1879 - accuracy: 0.0000e+00 - val_loss: 0.3328 - val_accuracy: 0.0000e+00\n",
            "Epoch 106/800\n",
            "4/4 - 0s - loss: 0.2184 - accuracy: 0.0000e+00 - val_loss: 0.3117 - val_accuracy: 0.0000e+00\n",
            "Epoch 107/800\n",
            "4/4 - 0s - loss: 0.1263 - accuracy: 0.0000e+00 - val_loss: 0.2771 - val_accuracy: 0.0000e+00\n",
            "Epoch 108/800\n",
            "4/4 - 0s - loss: 0.1701 - accuracy: 0.0000e+00 - val_loss: 0.2801 - val_accuracy: 0.0000e+00\n",
            "Epoch 109/800\n",
            "4/4 - 0s - loss: 0.2340 - accuracy: 0.0000e+00 - val_loss: 0.2757 - val_accuracy: 0.0000e+00\n",
            "Epoch 110/800\n",
            "4/4 - 0s - loss: 0.1513 - accuracy: 0.0000e+00 - val_loss: 0.2975 - val_accuracy: 0.0000e+00\n",
            "Epoch 111/800\n",
            "4/4 - 0s - loss: 0.1810 - accuracy: 0.0000e+00 - val_loss: 0.3114 - val_accuracy: 0.0000e+00\n",
            "Epoch 112/800\n",
            "4/4 - 0s - loss: 0.2125 - accuracy: 0.0000e+00 - val_loss: 0.3078 - val_accuracy: 0.0000e+00\n",
            "Epoch 113/800\n",
            "4/4 - 0s - loss: 0.1656 - accuracy: 0.0000e+00 - val_loss: 0.3026 - val_accuracy: 0.0000e+00\n",
            "Epoch 114/800\n",
            "4/4 - 0s - loss: 0.1823 - accuracy: 0.0000e+00 - val_loss: 0.3021 - val_accuracy: 0.0000e+00\n",
            "Epoch 115/800\n",
            "4/4 - 0s - loss: 0.2065 - accuracy: 0.0000e+00 - val_loss: 0.3050 - val_accuracy: 0.0000e+00\n",
            "Epoch 116/800\n",
            "4/4 - 0s - loss: 0.1426 - accuracy: 0.0000e+00 - val_loss: 0.3057 - val_accuracy: 0.0000e+00\n",
            "Epoch 117/800\n",
            "4/4 - 0s - loss: 0.2003 - accuracy: 0.0000e+00 - val_loss: 0.3028 - val_accuracy: 0.0000e+00\n",
            "Epoch 118/800\n",
            "4/4 - 0s - loss: 0.1873 - accuracy: 0.0000e+00 - val_loss: 0.2999 - val_accuracy: 0.0000e+00\n",
            "Epoch 119/800\n",
            "4/4 - 0s - loss: 0.1910 - accuracy: 0.0000e+00 - val_loss: 0.3013 - val_accuracy: 0.0000e+00\n",
            "Epoch 120/800\n",
            "4/4 - 0s - loss: 0.1370 - accuracy: 0.0000e+00 - val_loss: 0.3019 - val_accuracy: 0.0000e+00\n",
            "Epoch 121/800\n",
            "4/4 - 0s - loss: 0.1627 - accuracy: 0.0000e+00 - val_loss: 0.2993 - val_accuracy: 0.0000e+00\n",
            "Epoch 122/800\n",
            "4/4 - 0s - loss: 0.1897 - accuracy: 0.0000e+00 - val_loss: 0.3067 - val_accuracy: 0.0000e+00\n",
            "Epoch 123/800\n",
            "4/4 - 0s - loss: 0.1626 - accuracy: 0.0000e+00 - val_loss: 0.3164 - val_accuracy: 0.0000e+00\n",
            "Epoch 124/800\n",
            "4/4 - 0s - loss: 0.1727 - accuracy: 0.0000e+00 - val_loss: 0.3232 - val_accuracy: 0.0000e+00\n"
          ],
          "name": "stdout"
        }
      ]
    },
    {
      "cell_type": "code",
      "metadata": {
        "id": "DtuDazML-QPG",
        "colab_type": "code",
        "colab": {
          "base_uri": "https://localhost:8080/",
          "height": 34
        },
        "outputId": "c7f9d8bf-493c-4226-f877-149829342b46"
      },
      "source": [
        "learning_rate_reduction.patience"
      ],
      "execution_count": 100,
      "outputs": [
        {
          "output_type": "execute_result",
          "data": {
            "text/plain": [
              "20"
            ]
          },
          "metadata": {
            "tags": []
          },
          "execution_count": 100
        }
      ]
    },
    {
      "cell_type": "markdown",
      "metadata": {
        "id": "8zhsqvtL-QPJ",
        "colab_type": "text"
      },
      "source": [
        "Finally, let's replot the accuracy and loss graphs for our new model."
      ]
    },
    {
      "cell_type": "code",
      "metadata": {
        "id": "HOPSJT7w-QPJ",
        "colab_type": "code",
        "colab": {
          "base_uri": "https://localhost:8080/",
          "height": 295
        },
        "outputId": "97d0b9a0-45f8-46db-ddec-1ad498d032f2"
      },
      "source": [
        "try:\n",
        "    plt.plot(call_history.history['accuracy'])\n",
        "    plt.plot(call_history.history['val_accuracy'])\n",
        "except KeyError:\n",
        "    plt.plot(call_history.history['acc'])\n",
        "    plt.plot(call_history.history['val_acc'])\n",
        "plt.title('Accuracy vs. epochs')\n",
        "plt.ylabel('Accuracy')\n",
        "plt.xlabel('Epoch')\n",
        "plt.legend(['Training', 'Validation'], loc='lower right')\n",
        "plt.show() "
      ],
      "execution_count": 101,
      "outputs": [
        {
          "output_type": "display_data",
          "data": {
            "image/png": "[encoded data removed]",
            "text/plain": [
              "<Figure size 432x288 with 1 Axes>"
            ]
          },
          "metadata": {
            "tags": [],
            "needs_background": "light"
          }
        }
      ]
    },
    {
      "cell_type": "code",
      "metadata": {
        "id": "1w5NOgER-QPL",
        "colab_type": "code",
        "colab": {
          "base_uri": "https://localhost:8080/",
          "height": 295
        },
        "outputId": "2c3696cf-3aaf-4e3e-d950-5dca6b3eed35"
      },
      "source": [
        "plt.plot(call_history.history['loss'])\n",
        "plt.plot(call_history.history['val_loss'])\n",
        "plt.title('Loss vs. epochs')\n",
        "plt.ylabel('Loss')\n",
        "plt.xlabel('Epoch')\n",
        "plt.legend(['Training', 'Validation'], loc='upper right')\n",
        "plt.show() "
      ],
      "execution_count": 102,
      "outputs": [
        {
          "output_type": "display_data",
          "data": {
            "image/png": "[encoded data removed]",
            "text/plain": [
              "<Figure size 432x288 with 1 Axes>"
            ]
          },
          "metadata": {
            "tags": [],
            "needs_background": "light"
          }
        }
      ]
    },
    {
      "cell_type": "code",
      "metadata": {
        "id": "AsBmI_qM5CYh",
        "colab_type": "code",
        "colab": {
          "base_uri": "https://localhost:8080/",
          "height": 51
        },
        "outputId": "cc1b250c-6a80-4acd-bb8c-9d9a1e528f99"
      },
      "source": [
        "# Evaluate the model on the test set\n",
        "\n",
        "test_loss, test_acc = call_model.evaluate(test_data, test_targets, verbose=0)\n",
        "print(\"Test loss: {:.3f}\\nTest accuracy: {:.2f}%\".format(test_loss, 100 * test_acc))"
      ],
      "execution_count": 103,
      "outputs": [
        {
          "output_type": "stream",
          "text": [
            "Test loss: 0.111\n",
            "Test accuracy: 0.00%\n"
          ],
          "name": "stdout"
        }
      ]
    },
    {
      "cell_type": "markdown",
      "metadata": {
        "id": "zqBMocM0-QPM",
        "colab_type": "text"
      },
      "source": [
        "Congratulations for completing this programming assignment! In the next week of the course we will learn how to save and load pre-trained models."
      ]
    }
  ]
}