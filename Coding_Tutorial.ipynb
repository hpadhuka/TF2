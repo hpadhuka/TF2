{
  "nbformat": 4,
  "nbformat_minor": 0,
  "metadata": {
    "kernelspec": {
      "display_name": "Python 3",
      "language": "python",
      "name": "python3"
    },
    "language_info": {
      "codemirror_mode": {
        "name": "ipython",
        "version": 3
      },
      "file_extension": ".py",
      "mimetype": "text/x-python",
      "name": "python",
      "nbconvert_exporter": "python",
      "pygments_lexer": "ipython3",
      "version": "3.7.1"
    },
    "colab": {
      "name": "Coding Tutorial.ipynb",
      "provenance": [],
      "include_colab_link": true
    },
    "accelerator": "GPU"
  },
  "cells": [
    {
      "cell_type": "markdown",
      "metadata": {
        "id": "view-in-github",
        "colab_type": "text"
      },
      "source": [
        "<a href=\"https://colab.research.google.com/github/hpadhuka/TF2/blob/master/Coding_Tutorial.ipynb\" target=\"_parent\"><img src=\"https://colab.research.google.com/assets/colab-badge.svg\" alt=\"Open In Colab\"/></a>"
      ]
    },
    {
      "cell_type": "code",
      "metadata": {
        "scrolled": true,
        "id": "FikvkY8rHelz",
        "colab_type": "code",
        "colab": {
          "base_uri": "https://localhost:8080/",
          "height": 34
        },
        "outputId": "f5b0fc4c-56e5-4215-fa84-d99e048a6fc4"
      },
      "source": [
        "import tensorflow as tf\n",
        "print(tf.__version__)"
      ],
      "execution_count": 1,
      "outputs": [
        {
          "output_type": "stream",
          "text": [
            "2.3.0\n"
          ],
          "name": "stdout"
        }
      ]
    },
    {
      "cell_type": "markdown",
      "metadata": {
        "id": "6HyxBefWHel9",
        "colab_type": "text"
      },
      "source": [
        "# Validation, regularisation and callbacks"
      ]
    },
    {
      "cell_type": "markdown",
      "metadata": {
        "id": "64ySVQ1cHel-",
        "colab_type": "text"
      },
      "source": [
        " ## Coding tutorials\n",
        " #### [1. Validation sets](#coding_tutorial_1)\n",
        " #### [2. Model regularisation](#coding_tutorial_2)\n",
        " #### [3. Introduction to callbacks](#coding_tutorial_3)\n",
        " #### [4. Early stopping / patience](#coding_tutorial_4)"
      ]
    },
    {
      "cell_type": "markdown",
      "metadata": {
        "id": "BNwFZrE-HemA",
        "colab_type": "text"
      },
      "source": [
        "***\n",
        "<a id=\"coding_tutorial_1\"></a>\n",
        "## Validation sets"
      ]
    },
    {
      "cell_type": "markdown",
      "metadata": {
        "id": "ACPESZc6HemC",
        "colab_type": "text"
      },
      "source": [
        "#### Load the data"
      ]
    },
    {
      "cell_type": "code",
      "metadata": {
        "id": "nM9lKinIHemE",
        "colab_type": "code",
        "colab": {
          "base_uri": "https://localhost:8080/",
          "height": 700
        },
        "outputId": "226131a7-ae57-498b-9c7e-5a42888e7d05"
      },
      "source": [
        "# Load the diabetes dataset\n",
        "\n",
        "from sklearn.datasets import load_diabetes\n",
        "\n",
        "diabetes_data = load_diabetes()\n",
        "print(diabetes_data[\"DESCR\"])\n",
        "print(diabetes_data.keys())"
      ],
      "execution_count": 2,
      "outputs": [
        {
          "output_type": "stream",
          "text": [
            ".. _diabetes_dataset:\n",
            "\n",
            "Diabetes dataset\n",
            "----------------\n",
            "\n",
            "Ten baseline variables, age, sex, body mass index, average blood\n",
            "pressure, and six blood serum measurements were obtained for each of n =\n",
            "442 diabetes patients, as well as the response of interest, a\n",
            "quantitative measure of disease progression one year after baseline.\n",
            "\n",
            "**Data Set Characteristics:**\n",
            "\n",
            "  :Number of Instances: 442\n",
            "\n",
            "  :Number of Attributes: First 10 columns are numeric predictive values\n",
            "\n",
            "  :Target: Column 11 is a quantitative measure of disease progression one year after baseline\n",
            "\n",
            "  :Attribute Information:\n",
            "      - Age\n",
            "      - Sex\n",
            "      - Body mass index\n",
            "      - Average blood pressure\n",
            "      - S1\n",
            "      - S2\n",
            "      - S3\n",
            "      - S4\n",
            "      - S5\n",
            "      - S6\n",
            "\n",
            "Note: Each of these 10 feature variables have been mean centered and scaled by the standard deviation times `n_samples` (i.e. the sum of squares of each column totals 1).\n",
            "\n",
            "Source URL:\n",
            "https://www4.stat.ncsu.edu/~boos/var.select/diabetes.html\n",
            "\n",
            "For more information see:\n",
            "Bradley Efron, Trevor Hastie, Iain Johnstone and Robert Tibshirani (2004) \"Least Angle Regression,\" Annals of Statistics (with discussion), 407-499.\n",
            "(https://web.stanford.edu/~hastie/Papers/LARS/LeastAngle_2002.pdf)\n",
            "dict_keys(['data', 'target', 'DESCR', 'feature_names', 'data_filename', 'target_filename'])\n"
          ],
          "name": "stdout"
        }
      ]
    },
    {
      "cell_type": "code",
      "metadata": {
        "id": "D19vMSguHemM",
        "colab_type": "code",
        "colab": {
          "base_uri": "https://localhost:8080/",
          "height": 595
        },
        "outputId": "b7c63fe6-f578-4b2e-eab2-02641109c4a9"
      },
      "source": [
        "# Save the input and target variables\n",
        "training_data = diabetes_data['data']\n",
        "training_target = diabetes_data['target']\n",
        "print(training_data.shape)\n",
        "print(training_target.shape)\n",
        "print(training_target)\n"
      ],
      "execution_count": 3,
      "outputs": [
        {
          "output_type": "stream",
          "text": [
            "(442, 10)\n",
            "(442,)\n",
            "[151.  75. 141. 206. 135.  97. 138.  63. 110. 310. 101.  69. 179. 185.\n",
            " 118. 171. 166. 144.  97. 168.  68.  49.  68. 245. 184. 202. 137.  85.\n",
            " 131. 283. 129.  59. 341.  87.  65. 102. 265. 276. 252.  90. 100.  55.\n",
            "  61.  92. 259.  53. 190. 142.  75. 142. 155. 225.  59. 104. 182. 128.\n",
            "  52.  37. 170. 170.  61. 144.  52. 128.  71. 163. 150.  97. 160. 178.\n",
            "  48. 270. 202. 111.  85.  42. 170. 200. 252. 113. 143.  51.  52. 210.\n",
            "  65. 141.  55. 134.  42. 111.  98. 164.  48.  96.  90. 162. 150. 279.\n",
            "  92.  83. 128. 102. 302. 198.  95.  53. 134. 144. 232.  81. 104.  59.\n",
            " 246. 297. 258. 229. 275. 281. 179. 200. 200. 173. 180.  84. 121. 161.\n",
            "  99. 109. 115. 268. 274. 158. 107.  83. 103. 272.  85. 280. 336. 281.\n",
            " 118. 317. 235.  60. 174. 259. 178. 128.  96. 126. 288.  88. 292.  71.\n",
            " 197. 186.  25.  84.  96. 195.  53. 217. 172. 131. 214.  59.  70. 220.\n",
            " 268. 152.  47.  74. 295. 101. 151. 127. 237. 225.  81. 151. 107.  64.\n",
            " 138. 185. 265. 101. 137. 143. 141.  79. 292. 178.  91. 116.  86. 122.\n",
            "  72. 129. 142.  90. 158.  39. 196. 222. 277.  99. 196. 202. 155.  77.\n",
            " 191.  70.  73.  49.  65. 263. 248. 296. 214. 185.  78.  93. 252. 150.\n",
            "  77. 208.  77. 108. 160.  53. 220. 154. 259.  90. 246. 124.  67.  72.\n",
            " 257. 262. 275. 177.  71.  47. 187. 125.  78.  51. 258. 215. 303. 243.\n",
            "  91. 150. 310. 153. 346.  63.  89.  50.  39. 103. 308. 116. 145.  74.\n",
            "  45. 115. 264.  87. 202. 127. 182. 241.  66.  94. 283.  64. 102. 200.\n",
            " 265.  94. 230. 181. 156. 233.  60. 219.  80.  68. 332. 248.  84. 200.\n",
            "  55.  85.  89.  31. 129.  83. 275.  65. 198. 236. 253. 124.  44. 172.\n",
            " 114. 142. 109. 180. 144. 163. 147.  97. 220. 190. 109. 191. 122. 230.\n",
            " 242. 248. 249. 192. 131. 237.  78. 135. 244. 199. 270. 164.  72.  96.\n",
            " 306.  91. 214.  95. 216. 263. 178. 113. 200. 139. 139.  88. 148.  88.\n",
            " 243.  71.  77. 109. 272.  60.  54. 221.  90. 311. 281. 182. 321.  58.\n",
            " 262. 206. 233. 242. 123. 167.  63. 197.  71. 168. 140. 217. 121. 235.\n",
            " 245.  40.  52. 104. 132.  88.  69. 219.  72. 201. 110.  51. 277.  63.\n",
            " 118.  69. 273. 258.  43. 198. 242. 232. 175.  93. 168. 275. 293. 281.\n",
            "  72. 140. 189. 181. 209. 136. 261. 113. 131. 174. 257.  55.  84.  42.\n",
            " 146. 212. 233.  91. 111. 152. 120.  67. 310.  94. 183.  66. 173.  72.\n",
            "  49.  64.  48. 178. 104. 132. 220.  57.]\n"
          ],
          "name": "stdout"
        }
      ]
    },
    {
      "cell_type": "code",
      "metadata": {
        "id": "WlDdz06oHemQ",
        "colab_type": "code",
        "colab": {
          "base_uri": "https://localhost:8080/",
          "height": 1000
        },
        "outputId": "4f757687-ea3f-4066-9cb3-a175881e5b75"
      },
      "source": [
        "# Normalise the target data (this will make clearer training curves)\n",
        "\n",
        "training_target = (training_target - training_target.mean(axis=0)) / training_target.std()\n",
        "print(training_target)"
      ],
      "execution_count": 4,
      "outputs": [
        {
          "output_type": "stream",
          "text": [
            "[-1.47194752e-02 -1.00165882e+00 -1.44579915e-01  6.99512942e-01\n",
            " -2.22496178e-01 -7.15965848e-01 -1.83538046e-01 -1.15749134e+00\n",
            " -5.47147277e-01  2.05006151e+00 -6.64021672e-01 -1.07957508e+00\n",
            "  3.48889755e-01  4.26806019e-01 -4.43258925e-01  2.45001404e-01\n",
            "  1.80071184e-01 -1.05621783e-01 -7.15965848e-01  2.06043272e-01\n",
            " -1.09256112e+00 -1.33929596e+00 -1.09256112e+00  1.20596866e+00\n",
            "  4.13819975e-01  6.47568766e-01 -1.96524090e-01 -8.71798376e-01\n",
            " -2.74440354e-01  1.69943833e+00 -3.00412442e-01 -1.20943552e+00\n",
            "  2.45262887e+00 -8.45826288e-01 -1.13151925e+00 -6.51035629e-01\n",
            "  1.46568953e+00  1.60853602e+00  1.29687096e+00 -8.06868156e-01\n",
            " -6.77007716e-01 -1.26137969e+00 -1.18346343e+00 -7.80896068e-01\n",
            "  1.38777327e+00 -1.28735178e+00  4.91736239e-01 -1.31593871e-01\n",
            " -1.00165882e+00 -1.31593871e-01  3.72247006e-02  9.46247777e-01\n",
            " -1.20943552e+00 -6.25063541e-01  3.87847887e-01 -3.13398486e-01\n",
            " -1.30033783e+00 -1.49512849e+00  2.32015360e-01  2.32015360e-01\n",
            " -1.18346343e+00 -1.05621783e-01 -1.30033783e+00 -3.13398486e-01\n",
            " -1.05360299e+00  1.41113052e-01 -2.77055191e-02 -7.15965848e-01\n",
            "  1.02154920e-01  3.35903711e-01 -1.35228200e+00  1.53061975e+00\n",
            "  6.47568766e-01 -5.34161233e-01 -8.71798376e-01 -1.43019827e+00\n",
            "  2.32015360e-01  6.21596678e-01  1.29687096e+00 -5.08189145e-01\n",
            " -1.18607827e-01 -1.31332387e+00 -1.30033783e+00  7.51457118e-01\n",
            " -1.13151925e+00 -1.44579915e-01 -1.26137969e+00 -2.35482222e-01\n",
            " -1.43019827e+00 -5.34161233e-01 -7.02979804e-01  1.54099096e-01\n",
            " -1.35228200e+00 -7.28951892e-01 -8.06868156e-01  1.28127008e-01\n",
            " -2.77055191e-02  1.64749415e+00 -7.80896068e-01 -8.97770464e-01\n",
            " -3.13398486e-01 -6.51035629e-01  1.94617316e+00  5.95624590e-01\n",
            " -7.41937936e-01 -1.28735178e+00 -2.35482222e-01 -1.05621783e-01\n",
            "  1.03715008e+00 -9.23742551e-01 -6.25063541e-01 -1.20943552e+00\n",
            "  1.21895470e+00  1.88124294e+00  1.37478723e+00  9.98191953e-01\n",
            "  1.59554997e+00  1.67346624e+00  3.48889755e-01  6.21596678e-01\n",
            "  6.21596678e-01  2.70973492e-01  3.61875799e-01 -8.84784420e-01\n",
            " -4.04300794e-01  1.15140964e-01 -6.89993760e-01 -5.60133321e-01\n",
            " -4.82217057e-01  1.50464767e+00  1.58256393e+00  7.61828325e-02\n",
            " -5.86105409e-01 -8.97770464e-01 -6.38049585e-01  1.55659184e+00\n",
            " -8.71798376e-01  1.66048019e+00  2.38769865e+00  1.67346624e+00\n",
            " -4.43258925e-01  2.14096382e+00  1.07610822e+00 -1.19644947e+00\n",
            "  2.83959536e-01  1.38777327e+00  3.35903711e-01 -3.13398486e-01\n",
            " -7.28951892e-01 -3.39370574e-01  1.76436855e+00 -8.32840244e-01\n",
            "  1.81631272e+00 -1.05360299e+00  5.82638546e-01  4.39792063e-01\n",
            " -1.65096101e+00 -8.84784420e-01 -7.28951892e-01  5.56666458e-01\n",
            " -1.28735178e+00  8.42359425e-01  2.57987448e-01 -2.74440354e-01\n",
            "  8.03401293e-01 -1.20943552e+00 -1.06658903e+00  8.81317557e-01\n",
            "  1.50464767e+00 -1.73343121e-03 -1.36526805e+00 -1.01464486e+00\n",
            "  1.85527085e+00 -6.64021672e-01 -1.47194752e-02 -3.26384530e-01\n",
            "  1.10208030e+00  9.46247777e-01 -9.23742551e-01 -1.47194752e-02\n",
            " -5.86105409e-01 -1.14450530e+00 -1.83538046e-01  4.26806019e-01\n",
            "  1.46568953e+00 -6.64021672e-01 -1.96524090e-01 -1.18607827e-01\n",
            " -1.44579915e-01 -9.49714639e-01  1.81631272e+00  3.35903711e-01\n",
            " -7.93882112e-01 -4.69231013e-01 -8.58812332e-01 -3.91314750e-01\n",
            " -1.04061695e+00 -3.00412442e-01 -1.31593871e-01 -8.06868156e-01\n",
            "  7.61828325e-02 -1.46915640e+00  5.69652502e-01  9.07289645e-01\n",
            "  1.62152206e+00 -6.89993760e-01  5.69652502e-01  6.47568766e-01\n",
            "  3.72247006e-02 -9.75686727e-01  5.04722283e-01 -1.06658903e+00\n",
            " -1.02763090e+00 -1.33929596e+00 -1.13151925e+00  1.43971745e+00\n",
            "  1.24492679e+00  1.86825690e+00  8.03401293e-01  4.26806019e-01\n",
            " -9.62700683e-01 -7.67910024e-01  1.29687096e+00 -2.77055191e-02\n",
            " -9.75686727e-01  7.25485030e-01 -9.75686727e-01 -5.73119365e-01\n",
            "  1.02154920e-01 -1.28735178e+00  8.81317557e-01  2.42386567e-02\n",
            "  1.38777327e+00 -8.06868156e-01  1.21895470e+00 -3.65342662e-01\n",
            " -1.10554717e+00 -1.04061695e+00  1.36180118e+00  1.42673140e+00\n",
            "  1.59554997e+00  3.22917667e-01 -1.05360299e+00 -1.36526805e+00\n",
            "  4.52778107e-01 -3.52356618e-01 -9.62700683e-01 -1.31332387e+00\n",
            "  1.37478723e+00  8.16387337e-01  1.95915920e+00  1.17999657e+00\n",
            " -7.93882112e-01 -2.77055191e-02  2.05006151e+00  1.12526127e-02\n",
            "  2.51755909e+00 -1.15749134e+00 -8.19854200e-01 -1.32630991e+00\n",
            " -1.46915640e+00 -6.38049585e-01  2.02408942e+00 -4.69231013e-01\n",
            " -9.26357388e-02 -1.01464486e+00 -1.39124013e+00 -4.82217057e-01\n",
            "  1.45270349e+00 -8.45826288e-01  6.47568766e-01 -3.26384530e-01\n",
            "  3.87847887e-01  1.15402448e+00 -1.11853321e+00 -7.54923980e-01\n",
            "  1.69943833e+00 -1.14450530e+00 -6.51035629e-01  6.21596678e-01\n",
            "  1.46568953e+00 -7.54923980e-01  1.01117800e+00  3.74861843e-01\n",
            "  5.02107446e-02  1.05013613e+00 -1.19644947e+00  8.68331513e-01\n",
            " -9.36728595e-01 -1.09256112e+00  2.33575448e+00  1.24492679e+00\n",
            " -8.84784420e-01  6.21596678e-01 -1.26137969e+00 -8.71798376e-01\n",
            " -8.19854200e-01 -1.57304475e+00 -3.00412442e-01 -8.97770464e-01\n",
            "  1.59554997e+00 -1.13151925e+00  5.95624590e-01  1.08909426e+00\n",
            "  1.30985701e+00 -3.65342662e-01 -1.40422618e+00  2.57987448e-01\n",
            " -4.95203101e-01 -1.31593871e-01 -5.60133321e-01  3.61875799e-01\n",
            " -1.05621783e-01  1.41113052e-01 -6.66636509e-02 -7.15965848e-01\n",
            "  8.81317557e-01  4.91736239e-01 -5.60133321e-01  5.04722283e-01\n",
            " -3.91314750e-01  1.01117800e+00  1.16701052e+00  1.24492679e+00\n",
            "  1.25791283e+00  5.17708327e-01 -2.74440354e-01  1.10208030e+00\n",
            " -9.62700683e-01 -2.22496178e-01  1.19298261e+00  6.08610634e-01\n",
            "  1.53061975e+00  1.54099096e-01 -1.04061695e+00 -7.28951892e-01\n",
            "  1.99811734e+00 -7.93882112e-01  8.03401293e-01 -7.41937936e-01\n",
            "  8.29373381e-01  1.43971745e+00  3.35903711e-01 -5.08189145e-01\n",
            "  6.21596678e-01 -1.70552003e-01 -1.70552003e-01 -8.32840244e-01\n",
            " -5.36776070e-02 -8.32840244e-01  1.17999657e+00 -1.05360299e+00\n",
            " -9.75686727e-01 -5.60133321e-01  1.55659184e+00 -1.19644947e+00\n",
            " -1.27436574e+00  8.94303601e-01 -8.06868156e-01  2.06304756e+00\n",
            "  1.67346624e+00  3.87847887e-01  2.19290800e+00 -1.22242156e+00\n",
            "  1.42673140e+00  6.99512942e-01  1.05013613e+00  1.16701052e+00\n",
            " -3.78328706e-01  1.93057228e-01 -1.15749134e+00  5.82638546e-01\n",
            " -1.05360299e+00  2.06043272e-01 -1.57565959e-01  8.42359425e-01\n",
            " -4.04300794e-01  1.07610822e+00  1.20596866e+00 -1.45617035e+00\n",
            " -1.30033783e+00 -6.25063541e-01 -2.61454310e-01 -8.32840244e-01\n",
            " -1.07957508e+00  8.68331513e-01 -1.04061695e+00  6.34582722e-01\n",
            " -5.47147277e-01 -1.31332387e+00  1.62152206e+00 -1.15749134e+00\n",
            " -4.43258925e-01 -1.07957508e+00  1.56957789e+00  1.37478723e+00\n",
            " -1.41721222e+00  5.95624590e-01  1.16701052e+00  1.03715008e+00\n",
            "  2.96945580e-01 -7.67910024e-01  2.06043272e-01  1.59554997e+00\n",
            "  1.82929877e+00  1.67346624e+00 -1.04061695e+00 -1.57565959e-01\n",
            "  4.78750195e-01  3.74861843e-01  7.38471074e-01 -2.09510134e-01\n",
            "  1.41374536e+00 -5.08189145e-01 -2.74440354e-01  2.83959536e-01\n",
            "  1.36180118e+00 -1.26137969e+00 -8.84784420e-01 -1.43019827e+00\n",
            " -7.96496949e-02  7.77429206e-01  1.05013613e+00 -7.93882112e-01\n",
            " -5.34161233e-01 -1.73343121e-03 -4.17286837e-01 -1.10554717e+00\n",
            "  2.05006151e+00 -7.54923980e-01  4.00833931e-01 -1.11853321e+00\n",
            "  2.70973492e-01 -1.04061695e+00 -1.33929596e+00 -1.14450530e+00\n",
            " -1.35228200e+00  3.35903711e-01 -6.25063541e-01 -2.61454310e-01\n",
            "  8.81317557e-01 -1.23540761e+00]\n"
          ],
          "name": "stdout"
        }
      ]
    },
    {
      "cell_type": "code",
      "metadata": {
        "id": "4ABqIMqkHemW",
        "colab_type": "code",
        "colab": {
          "base_uri": "https://localhost:8080/",
          "height": 68
        },
        "outputId": "6e438b85-5e2d-42e8-d94c-a2ec5a37030d"
      },
      "source": [
        "# Split the data into train and test sets\n",
        "\n",
        "from sklearn.model_selection import train_test_split\n",
        "train_X, test_X, train_Y, test_Y = train_test_split(training_data, training_target, test_size=0.1)\n",
        "\n",
        "print(train_X.shape)\n",
        "print(test_X.shape)\n",
        "print(train_Y.shape)"
      ],
      "execution_count": 5,
      "outputs": [
        {
          "output_type": "stream",
          "text": [
            "(397, 10)\n",
            "(45, 10)\n",
            "(397,)\n"
          ],
          "name": "stdout"
        }
      ]
    },
    {
      "cell_type": "markdown",
      "metadata": {
        "id": "Ik7sR6z7Hemc",
        "colab_type": "text"
      },
      "source": [
        "#### Train a feedforward neural network model"
      ]
    },
    {
      "cell_type": "code",
      "metadata": {
        "id": "sZbDHSXgHemd",
        "colab_type": "code",
        "colab": {}
      },
      "source": [
        "# Build the model\n",
        "\n",
        "from tensorflow.keras.models import Sequential\n",
        "from tensorflow.keras.layers import Dense\n",
        "\n",
        "def get_model():\n",
        "    model = Sequential()\n",
        "    model.add(Dense(128, activation='relu', input_shape=(training_data.shape[1],)))\n",
        "    model.add(Dense(128, activation='relu'))\n",
        "    model.add(Dense(128, activation='relu'))\n",
        "    model.add(Dense(128, activation='relu'))\n",
        "    model.add(Dense(128, activation='relu'))\n",
        "    model.add(Dense(128, activation='relu'))\n",
        "    model.add(Dense(1))\n",
        "    \n",
        "    return model\n",
        "    "
      ],
      "execution_count": 6,
      "outputs": []
    },
    {
      "cell_type": "code",
      "metadata": {
        "id": "jsLbUa_UHeml",
        "colab_type": "code",
        "colab": {
          "base_uri": "https://localhost:8080/",
          "height": 391
        },
        "outputId": "6b5c54f5-a40e-446a-ed8f-d7b82876e09c"
      },
      "source": [
        "# Print the model summary\n",
        "\n",
        "model = get_model()\n",
        "model.summary()"
      ],
      "execution_count": 7,
      "outputs": [
        {
          "output_type": "stream",
          "text": [
            "Model: \"sequential\"\n",
            "_________________________________________________________________\n",
            "Layer (type)                 Output Shape              Param #   \n",
            "=================================================================\n",
            "dense (Dense)                (None, 128)               1408      \n",
            "_________________________________________________________________\n",
            "dense_1 (Dense)              (None, 128)               16512     \n",
            "_________________________________________________________________\n",
            "dense_2 (Dense)              (None, 128)               16512     \n",
            "_________________________________________________________________\n",
            "dense_3 (Dense)              (None, 128)               16512     \n",
            "_________________________________________________________________\n",
            "dense_4 (Dense)              (None, 128)               16512     \n",
            "_________________________________________________________________\n",
            "dense_5 (Dense)              (None, 128)               16512     \n",
            "_________________________________________________________________\n",
            "dense_6 (Dense)              (None, 1)                 129       \n",
            "=================================================================\n",
            "Total params: 84,097\n",
            "Trainable params: 84,097\n",
            "Non-trainable params: 0\n",
            "_________________________________________________________________\n"
          ],
          "name": "stdout"
        }
      ]
    },
    {
      "cell_type": "code",
      "metadata": {
        "id": "JLvfXzuwHem0",
        "colab_type": "code",
        "colab": {}
      },
      "source": [
        "# Compile the model\n",
        "model.compile(optimizer='adam', loss='mse', metrics=['mae'])\n"
      ],
      "execution_count": 8,
      "outputs": []
    },
    {
      "cell_type": "code",
      "metadata": {
        "id": "KViYABPqHem4",
        "colab_type": "code",
        "colab": {}
      },
      "source": [
        "# Train the model, with some of the data reserved for validation\n",
        "\n",
        "history = model.fit(train_X, train_Y, validation_split=0.15, epochs=100, batch_size=64, verbose=False)"
      ],
      "execution_count": 9,
      "outputs": []
    },
    {
      "cell_type": "code",
      "metadata": {
        "id": "hgtwTfyVHenC",
        "colab_type": "code",
        "colab": {
          "base_uri": "https://localhost:8080/",
          "height": 51
        },
        "outputId": "5ca62411-fbab-4ded-899c-fa671412c722"
      },
      "source": [
        "# Evaluate the model on the test set\n",
        "\n",
        "model.evaluate(test_X, test_Y, verbose=2)"
      ],
      "execution_count": 10,
      "outputs": [
        {
          "output_type": "stream",
          "text": [
            "2/2 - 0s - loss: 0.6876 - mae: 0.6477\n"
          ],
          "name": "stdout"
        },
        {
          "output_type": "execute_result",
          "data": {
            "text/plain": [
              "[0.6876102685928345, 0.6477206945419312]"
            ]
          },
          "metadata": {
            "tags": []
          },
          "execution_count": 10
        }
      ]
    },
    {
      "cell_type": "markdown",
      "metadata": {
        "id": "3Xprz-ObHenN",
        "colab_type": "text"
      },
      "source": [
        "#### Plot the learning curves"
      ]
    },
    {
      "cell_type": "code",
      "metadata": {
        "id": "I1rX9-KxHenP",
        "colab_type": "code",
        "colab": {}
      },
      "source": [
        "import matplotlib.pyplot as plt\n",
        "%matplotlib inline"
      ],
      "execution_count": 11,
      "outputs": []
    },
    {
      "cell_type": "code",
      "metadata": {
        "id": "HW1fJ2C4Henf",
        "colab_type": "code",
        "colab": {
          "base_uri": "https://localhost:8080/",
          "height": 295
        },
        "outputId": "53a69257-55ec-42d3-d202-a8e9bbd0c31c"
      },
      "source": [
        "# Plot the training and validation loss\n",
        "\n",
        "plt.plot(history.history['loss'])\n",
        "plt.plot(history.history['val_loss'])\n",
        "plt.title('Loss vs. epochs')\n",
        "plt.ylabel('Loss')\n",
        "plt.xlabel('Epoch')\n",
        "plt.legend(['Training', 'Validation'], loc='upper right')\n",
        "plt.show()"
      ],
      "execution_count": 12,
      "outputs": [
        {
          "output_type": "display_data",
          "data": {
            "image/png": "[encoded data removed]",
            "text/plain": [
              "<Figure size 432x288 with 1 Axes>"
            ]
          },
          "metadata": {
            "tags": [],
            "needs_background": "light"
          }
        }
      ]
    },
    {
      "cell_type": "markdown",
      "metadata": {
        "id": "SPLRXCtiHenm",
        "colab_type": "text"
      },
      "source": [
        "***\n",
        "<a id=\"coding_tutorial_2\"></a>\n",
        "## Model regularisation"
      ]
    },
    {
      "cell_type": "markdown",
      "metadata": {
        "id": "p56CmJ6cHeno",
        "colab_type": "text"
      },
      "source": [
        "#### Adding regularisation with weight decay and dropout"
      ]
    },
    {
      "cell_type": "code",
      "metadata": {
        "id": "ijysSP_PHenq",
        "colab_type": "code",
        "colab": {}
      },
      "source": [
        "from tensorflow.keras.layers import Dropout\n",
        "from tensorflow.keras import regularizers"
      ],
      "execution_count": 13,
      "outputs": []
    },
    {
      "cell_type": "code",
      "metadata": {
        "id": "MEaEl9rtHenx",
        "colab_type": "code",
        "colab": {}
      },
      "source": [
        "def get_regularised_model(wd, rate):\n",
        "    model = Sequential([\n",
        "        Dense(128, activation=\"relu\", kernel_regularizer=regularizers.l2(wd), input_shape=(training_data.shape[1],)),\n",
        "        Dropout(rate),\n",
        "        Dense(128, activation=\"relu\", kernel_regularizer=regularizers.l2(wd)),\n",
        "        Dropout(rate),\n",
        "        Dense(128, activation=\"relu\", kernel_regularizer=regularizers.l2(wd)),\n",
        "        Dropout(rate),\n",
        "        Dense(128, activation=\"relu\", kernel_regularizer=regularizers.l2(wd)),\n",
        "        Dropout(rate),\n",
        "        Dense(128, activation=\"relu\", kernel_regularizer=regularizers.l2(wd)),\n",
        "        Dropout(rate),\n",
        "        Dense(128, activation=\"relu\", kernel_regularizer=regularizers.l2(wd)),\n",
        "        Dropout(rate),\n",
        "        Dense(1)\n",
        "    ])\n",
        "    return model"
      ],
      "execution_count": 14,
      "outputs": []
    },
    {
      "cell_type": "code",
      "metadata": {
        "id": "GldJCX-FHen-",
        "colab_type": "code",
        "colab": {}
      },
      "source": [
        "# Re-build the model with weight decay and dropout layers\n",
        "\n",
        "model = get_regularised_model(1e-5, 0.3)"
      ],
      "execution_count": 24,
      "outputs": []
    },
    {
      "cell_type": "code",
      "metadata": {
        "id": "VwP6FQizHeoB",
        "colab_type": "code",
        "colab": {}
      },
      "source": [
        "# Compile the model\n",
        "model.compile(optimizer='adam', loss='mse', metrics=['mae'])\n"
      ],
      "execution_count": 25,
      "outputs": []
    },
    {
      "cell_type": "code",
      "metadata": {
        "id": "zWOL6StoHeoG",
        "colab_type": "code",
        "colab": {}
      },
      "source": [
        "# Train the model, with some of the data reserved for validation\n",
        "\n",
        "history = model.fit(x=training_data, y=training_target, epochs=100, validation_split=0.15, batch_size=64, verbose=False)"
      ],
      "execution_count": 26,
      "outputs": []
    },
    {
      "cell_type": "code",
      "metadata": {
        "id": "_CdvkrelHeoN",
        "colab_type": "code",
        "colab": {
          "base_uri": "https://localhost:8080/",
          "height": 51
        },
        "outputId": "12d38dae-2b9b-4a1a-8691-950e4aa37c22"
      },
      "source": [
        "# Evaluate the model on the test set\n",
        "model.evaluate(test_X, test_Y)\n"
      ],
      "execution_count": 27,
      "outputs": [
        {
          "output_type": "stream",
          "text": [
            "2/2 [==============================] - 0s 3ms/step - loss: 0.3324 - mae: 0.4458\n"
          ],
          "name": "stdout"
        },
        {
          "output_type": "execute_result",
          "data": {
            "text/plain": [
              "[0.33236855268478394, 0.4457683265209198]"
            ]
          },
          "metadata": {
            "tags": []
          },
          "execution_count": 27
        }
      ]
    },
    {
      "cell_type": "markdown",
      "metadata": {
        "id": "baapeb_cHeoW",
        "colab_type": "text"
      },
      "source": [
        "#### Plot the learning curves"
      ]
    },
    {
      "cell_type": "code",
      "metadata": {
        "id": "MJYQJXlAHeoX",
        "colab_type": "code",
        "colab": {
          "base_uri": "https://localhost:8080/",
          "height": 295
        },
        "outputId": "77de07f3-5220-4d94-eeef-65790632bfc3"
      },
      "source": [
        "# Plot the training and validation loss\n",
        "\n",
        "import matplotlib.pyplot as plt\n",
        "\n",
        "plt.plot(history.history['loss'])\n",
        "plt.plot(history.history['val_loss'])\n",
        "plt.title('Loss vs. epochs')\n",
        "plt.ylabel('Loss')\n",
        "plt.xlabel('Epoch')\n",
        "plt.legend(['Training', 'Validation'], loc='upper right')\n",
        "plt.show()"
      ],
      "execution_count": 28,
      "outputs": [
        {
          "output_type": "display_data",
          "data": {
            "image/png": "[encoded data removed]",
            "text/plain": [
              "<Figure size 432x288 with 1 Axes>"
            ]
          },
          "metadata": {
            "tags": [],
            "needs_background": "light"
          }
        }
      ]
    },
    {
      "cell_type": "markdown",
      "metadata": {
        "id": "caUIZX00Heod",
        "colab_type": "text"
      },
      "source": [
        "***\n",
        "<a id=\"coding_tutorial_3\"></a>\n",
        "## Introduction to callbacks"
      ]
    },
    {
      "cell_type": "markdown",
      "metadata": {
        "id": "U8QsQx7LHeof",
        "colab_type": "text"
      },
      "source": [
        "#### Example training callback"
      ]
    },
    {
      "cell_type": "code",
      "metadata": {
        "id": "238PVKq3Heoh",
        "colab_type": "code",
        "colab": {}
      },
      "source": [
        "# Write a custom callback\n",
        "\n",
        "from tensorflow.keras.callbacks import Callback\n",
        "\n",
        "class TrainingCallback(Callback):\n",
        "      def on_train_begin(self, logs=None):\n",
        "          print(f'At the begining of the training')\n",
        "      def on_epoch_begin(self, epoch, logs=None):\n",
        "          print(f'At the begining of the Epoch {epoch}')\n",
        "      def on_train_batch_begin(self, batch, logs=None):\n",
        "          print(f'At the begining of the Batch {batch}')\n",
        "      def on_train_batch_end(self, batch, logs=None):\n",
        "          print(f'Finished batch={batch}')\n",
        "      def on_epoch_end(self, epoch, logs=None):\n",
        "          print(f'At the end of the Epoch {epoch}')\n",
        "      def on_train_end(self, logs=None):\n",
        "          print(f'Finished training')\n",
        "\n",
        "class TestCallback(Callback):\n",
        "      def on_test_begin(self, logs=None):\n",
        "          print(f'At the begining of the test')\n",
        "      def on_test_batch_begin(self, batch, logs=None):\n",
        "          print(f'At the begining of the Batch {batch}')\n",
        "      def on_test_batch_end(self, batch, logs=None):\n",
        "          print(f'Finished test batch={batch}')\n",
        "      def on_test_end(self, logs=None):\n",
        "          print(f'Finished test')\n",
        "\n",
        "class PredictCallback(Callback):\n",
        "      def on_predict_begin(self, logs=None):\n",
        "          print(f'At the begining of the prediction')\n",
        "      def on_predict_batch_begin(self, batch, logs=None):\n",
        "          print(f'At the begining of the Batch {batch}')\n",
        "      def on_predict_batch_end(self, batch, logs=None):\n",
        "          print(f'Finished test batch={batch}')\n",
        "      def on_predict_end(self, logs=None):\n",
        "          print(f'Finished prediction')"
      ],
      "execution_count": 51,
      "outputs": []
    },
    {
      "cell_type": "code",
      "metadata": {
        "id": "KqSXf-RGHeol",
        "colab_type": "code",
        "colab": {}
      },
      "source": [
        "# Re-build the model\n",
        "\n",
        "model = get_regularised_model(1e-5, 0.3)"
      ],
      "execution_count": 40,
      "outputs": []
    },
    {
      "cell_type": "code",
      "metadata": {
        "id": "FfUcLANkHeoo",
        "colab_type": "code",
        "colab": {}
      },
      "source": [
        "# Compile the model\n",
        "model.compile(optimizer='adam', loss='mse', metrics=['mae'])\n"
      ],
      "execution_count": 41,
      "outputs": []
    },
    {
      "cell_type": "markdown",
      "metadata": {
        "id": "VpaHhYOLHeox",
        "colab_type": "text"
      },
      "source": [
        "#### Train the model with the callback"
      ]
    },
    {
      "cell_type": "code",
      "metadata": {
        "id": "D8vnRuk-Heoy",
        "colab_type": "code",
        "colab": {
          "base_uri": "https://localhost:8080/",
          "height": 459
        },
        "outputId": "e9db8726-e2bb-478e-ea41-fcfd59ba79ef"
      },
      "source": [
        "# Train the model, with some of the data reserved for validation\n",
        "\n",
        "history = model.fit(training_data, training_target, epochs=3, batch_size=128, validation_split=0.15, callbacks = [TrainingCallback()], verbose=False)"
      ],
      "execution_count": 42,
      "outputs": [
        {
          "output_type": "stream",
          "text": [
            "At the begining of the training\n",
            "At the begining of the Epoch 0\n",
            "At the begining of the Batch 0\n",
            "Finished batch=0\n",
            "At the begining of the Batch 1\n",
            "Finished batch=1\n",
            "At the begining of the Batch 2\n",
            "Finished batch=2\n",
            "At the end of the Epoch 0\n",
            "At the begining of the Epoch 1\n",
            "At the begining of the Batch 0\n",
            "Finished batch=0\n",
            "At the begining of the Batch 1\n",
            "Finished batch=1\n",
            "At the begining of the Batch 2\n",
            "Finished batch=2\n",
            "At the end of the Epoch 1\n",
            "At the begining of the Epoch 2\n",
            "At the begining of the Batch 0\n",
            "Finished batch=0\n",
            "At the begining of the Batch 1\n",
            "Finished batch=1\n",
            "At the begining of the Batch 2\n",
            "Finished batch=2\n",
            "At the end of the Epoch 2\n",
            "Finished training\n"
          ],
          "name": "stdout"
        }
      ]
    },
    {
      "cell_type": "code",
      "metadata": {
        "id": "B9Ywmg7KHeo5",
        "colab_type": "code",
        "colab": {
          "base_uri": "https://localhost:8080/",
          "height": 136
        },
        "outputId": "fd2e2327-f4ab-4079-9ad9-ef1ee683a10b"
      },
      "source": [
        "# Evaluate the model\n",
        "\n",
        "model.evaluate(test_X, test_Y, callbacks=[TestCallback()], verbose=False)"
      ],
      "execution_count": 46,
      "outputs": [
        {
          "output_type": "stream",
          "text": [
            "At the begining of the test\n",
            "At the begining of the Batch 0\n",
            "Finished test batch=0\n",
            "At the begining of the Batch 1\n",
            "Finished test batch=1\n",
            "Finished test\n"
          ],
          "name": "stdout"
        },
        {
          "output_type": "execute_result",
          "data": {
            "text/plain": [
              "[0.6837924718856812, 0.7146801352500916]"
            ]
          },
          "metadata": {
            "tags": []
          },
          "execution_count": 46
        }
      ]
    },
    {
      "cell_type": "code",
      "metadata": {
        "id": "20HvbOqbHepB",
        "colab_type": "code",
        "colab": {
          "base_uri": "https://localhost:8080/",
          "height": 884
        },
        "outputId": "4f76f8eb-1c37-4e61-99f8-62c8dd3626c5"
      },
      "source": [
        "# Make predictions with the model\n",
        "\n",
        "model.predict(test_X, callbacks = [PredictCallback()], verbose=False)"
      ],
      "execution_count": 52,
      "outputs": [
        {
          "output_type": "stream",
          "text": [
            "At the begining of the prediction\n",
            "At the begining of the Batch 0\n",
            "Finished test batch=0\n",
            "At the begining of the Batch 1\n",
            "Finished test batch=1\n",
            "Finished prediction\n"
          ],
          "name": "stdout"
        },
        {
          "output_type": "execute_result",
          "data": {
            "text/plain": [
              "array([[ 0.02608125],\n",
              "       [-0.02047909],\n",
              "       [-0.00411288],\n",
              "       [ 0.02736969],\n",
              "       [-0.01093401],\n",
              "       [ 0.04866406],\n",
              "       [-0.00348964],\n",
              "       [ 0.00501868],\n",
              "       [ 0.03907871],\n",
              "       [ 0.00582149],\n",
              "       [-0.00836979],\n",
              "       [-0.01158654],\n",
              "       [ 0.02937094],\n",
              "       [ 0.03955823],\n",
              "       [ 0.00187516],\n",
              "       [-0.00938359],\n",
              "       [ 0.05362206],\n",
              "       [-0.01316722],\n",
              "       [-0.02432693],\n",
              "       [-0.02279619],\n",
              "       [-0.00168354],\n",
              "       [ 0.03625317],\n",
              "       [ 0.00227595],\n",
              "       [-0.00951356],\n",
              "       [ 0.04216185],\n",
              "       [-0.01231545],\n",
              "       [-0.02082467],\n",
              "       [ 0.02353125],\n",
              "       [ 0.05319095],\n",
              "       [-0.01973001],\n",
              "       [ 0.01020587],\n",
              "       [-0.00942493],\n",
              "       [ 0.02870779],\n",
              "       [-0.02380709],\n",
              "       [-0.02227205],\n",
              "       [ 0.054006  ],\n",
              "       [ 0.02133811],\n",
              "       [ 0.05560007],\n",
              "       [ 0.03720358],\n",
              "       [ 0.00862644],\n",
              "       [ 0.04190683],\n",
              "       [ 0.00096105],\n",
              "       [-0.02511919],\n",
              "       [ 0.03212886],\n",
              "       [ 0.02296956]], dtype=float32)"
            ]
          },
          "metadata": {
            "tags": []
          },
          "execution_count": 52
        }
      ]
    },
    {
      "cell_type": "markdown",
      "metadata": {
        "id": "fkfBHXGoHepI",
        "colab_type": "text"
      },
      "source": [
        "***\n",
        "<a id=\"coding_tutorial_4\"></a>\n",
        "## Early stopping / patience"
      ]
    },
    {
      "cell_type": "markdown",
      "metadata": {
        "id": "al7BYnhuHepJ",
        "colab_type": "text"
      },
      "source": [
        "#### Re-train the models with early stopping"
      ]
    },
    {
      "cell_type": "code",
      "metadata": {
        "id": "MO9pjKSTHepK",
        "colab_type": "code",
        "colab": {}
      },
      "source": [
        "# Re-train the unregularised model\n",
        "\n"
      ],
      "execution_count": null,
      "outputs": []
    },
    {
      "cell_type": "code",
      "metadata": {
        "id": "45cK4YnEHepR",
        "colab_type": "code",
        "colab": {}
      },
      "source": [
        "# Evaluate the model on the test set\n",
        "\n"
      ],
      "execution_count": null,
      "outputs": []
    },
    {
      "cell_type": "code",
      "metadata": {
        "id": "D8LhB2F8HepV",
        "colab_type": "code",
        "colab": {}
      },
      "source": [
        "# Re-train the regularised model\n",
        "\n"
      ],
      "execution_count": null,
      "outputs": []
    },
    {
      "cell_type": "code",
      "metadata": {
        "id": "A390hkiRHepe",
        "colab_type": "code",
        "colab": {}
      },
      "source": [
        "# Evaluate the model on the test set\n",
        "\n"
      ],
      "execution_count": null,
      "outputs": []
    },
    {
      "cell_type": "markdown",
      "metadata": {
        "id": "Y6AtDGDRHepj",
        "colab_type": "text"
      },
      "source": [
        "#### Plot the learning curves"
      ]
    },
    {
      "cell_type": "code",
      "metadata": {
        "id": "HA-Z9h5WHepk",
        "colab_type": "code",
        "colab": {}
      },
      "source": [
        "# Plot the training and validation loss\n",
        "\n",
        "import matplotlib.pyplot as plt\n",
        "\n",
        "fig = plt.figure(figsize=(12, 5))\n",
        "\n",
        "fig.add_subplot(121)\n",
        "\n",
        "plt.plot(unreg_history.history['loss'])\n",
        "plt.plot(unreg_history.history['val_loss'])\n",
        "plt.title('Unregularised model: loss vs. epochs')\n",
        "plt.ylabel('Loss')\n",
        "plt.xlabel('Epoch')\n",
        "plt.legend(['Training', 'Validation'], loc='upper right')\n",
        "\n",
        "fig.add_subplot(122)\n",
        "\n",
        "plt.plot(reg_history.history['loss'])\n",
        "plt.plot(reg_history.history['val_loss'])\n",
        "plt.title('Regularised model: loss vs. epochs')\n",
        "plt.ylabel('Loss')\n",
        "plt.xlabel('Epoch')\n",
        "plt.legend(['Training', 'Validation'], loc='upper right')\n",
        "\n",
        "plt.show()"
      ],
      "execution_count": null,
      "outputs": []
    }
  ]
}